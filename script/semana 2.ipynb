{
 "cells": [
  {
   "cell_type": "code",
   "execution_count": 1,
   "metadata": {},
   "outputs": [],
   "source": [
    "# https://gist.github.com/ChetnaAjmire/fa06491acc62901c68a9e010dbfd4c00\n"
   ]
  },
  {
   "cell_type": "markdown",
   "metadata": {},
   "source": [
    "# Criando sessão spark"
   ]
  },
  {
   "cell_type": "code",
   "execution_count": 2,
   "metadata": {},
   "outputs": [],
   "source": [
    "from pyspark import SparkContext, SparkConf\n",
    "from pyspark.sql import SparkSession\n",
    "from pyspark.sql.types import (\n",
    "    StructType,\n",
    "    StructField,\n",
    "    StringType,\n",
    "    IntegerType,\n",
    "    LongType,\n",
    "    BooleanType,\n",
    "    DoubleType,\n",
    ")\n",
    "from pyspark.sql.functions import when, lit, isnan, length, col\n"
   ]
  },
  {
   "cell_type": "code",
   "execution_count": 3,
   "metadata": {},
   "outputs": [],
   "source": [
    "# Creating a spark context class\n",
    "sc = SparkContext()\n",
    "\n",
    "# Creating a spark session\n",
    "spark = (\n",
    "    SparkSession.builder.appName(\"Semana2\")\n",
    "    .config(\"spark.some.config.option\", \"some-value\")\n",
    "    .getOrCreate()\n",
    ")\n"
   ]
  },
  {
   "cell_type": "code",
   "execution_count": 4,
   "metadata": {},
   "outputs": [
    {
     "data": {
      "text/html": [
       "\n",
       "            <div>\n",
       "                <p><b>SparkSession - in-memory</b></p>\n",
       "                \n",
       "        <div>\n",
       "            <p><b>SparkContext</b></p>\n",
       "\n",
       "            <p><a href=\"http://Polle:4040\">Spark UI</a></p>\n",
       "\n",
       "            <dl>\n",
       "              <dt>Version</dt>\n",
       "                <dd><code>v3.3.0</code></dd>\n",
       "              <dt>Master</dt>\n",
       "                <dd><code>local[*]</code></dd>\n",
       "              <dt>AppName</dt>\n",
       "                <dd><code>pyspark-shell</code></dd>\n",
       "            </dl>\n",
       "        </div>\n",
       "        \n",
       "            </div>\n",
       "        "
      ],
      "text/plain": [
       "<pyspark.sql.session.SparkSession at 0x206abd5e380>"
      ]
     },
     "execution_count": 4,
     "metadata": {},
     "output_type": "execute_result"
    }
   ],
   "source": [
    "spark\n"
   ]
  },
  {
   "cell_type": "markdown",
   "metadata": {},
   "source": [
    "# Airport Dataset"
   ]
  },
  {
   "cell_type": "code",
   "execution_count": 5,
   "metadata": {},
   "outputs": [],
   "source": [
    "schema = StructType(\n",
    "    [\n",
    "        StructField(\"faa\", StringType(), True),\n",
    "        StructField(\"name\", StringType(), True),\n",
    "        StructField(\"lat\", DoubleType(), True),\n",
    "        StructField(\"lon\", DoubleType(), True),\n",
    "        StructField(\"alt\", IntegerType(), True),\n",
    "        StructField(\"tz\", DoubleType(), True),\n",
    "        StructField(\"dst\", StringType(), True),\n",
    "    ]\n",
    ")\n"
   ]
  },
  {
   "cell_type": "code",
   "execution_count": 6,
   "metadata": {},
   "outputs": [
    {
     "name": "stdout",
     "output_type": "stream",
     "text": [
      "+---+-----------------------------+----------+-----------+----+----+---+\n",
      "|faa|name                         |lat       |lon        |alt |tz  |dst|\n",
      "+---+-----------------------------+----------+-----------+----+----+---+\n",
      "|04G|Lansdowne Airport            |41.1304722|-80.6195833|1044|-5.0|A  |\n",
      "|06A|Moton Field Municipal Airport|32.4605722|-85.6800278|264 |-5.0|A  |\n",
      "|06C|Schaumburg Regional          |41.9893408|-88.1012428|801 |-6.0|A  |\n",
      "|06N|Randall Airport              |41.431912 |-74.3915611|523 |-5.0|A  |\n",
      "|09J|Jekyll Island Airport        |31.0744722|-81.4277778|11  |-4.0|A  |\n",
      "+---+-----------------------------+----------+-----------+----+----+---+\n",
      "only showing top 5 rows\n",
      "\n"
     ]
    }
   ],
   "source": [
    "df = spark.read.csv(\"../Datasets/airports.csv\", header=True, schema=schema)\n",
    "# ,inferSchema=True\n",
    "df.show(5, False)\n"
   ]
  },
  {
   "cell_type": "code",
   "execution_count": 7,
   "metadata": {},
   "outputs": [
    {
     "name": "stdout",
     "output_type": "stream",
     "text": [
      "root\n",
      " |-- faa: string (nullable = true)\n",
      " |-- name: string (nullable = true)\n",
      " |-- lat: double (nullable = true)\n",
      " |-- lon: double (nullable = true)\n",
      " |-- alt: integer (nullable = true)\n",
      " |-- tz: double (nullable = true)\n",
      " |-- dst: string (nullable = true)\n",
      "\n"
     ]
    }
   ],
   "source": [
    "df.printSchema()\n"
   ]
  },
  {
   "cell_type": "markdown",
   "metadata": {},
   "source": [
    "## Pergunta 1"
   ]
  },
  {
   "cell_type": "code",
   "execution_count": 8,
   "metadata": {},
   "outputs": [],
   "source": [
    "# Primeiro when checa se é nulo ou vazio\n",
    "# Segundo when checa se o tamanho não está entre 3 e 5 e se não é digito alfanumérico\n",
    "df = df.withColumn(\n",
    "    \"qa_faa\",\n",
    "    when((col(\"faa\").isNull() | (col(\"faa\") == \"\")), \"M\").when(\n",
    "        (length(col(\"faa\")) < 3)\n",
    "        | (length(col(\"faa\")) > 5)\n",
    "        | ~(col(\"faa\").rlike(\"^[a-zA-Z0-9]*$\")),\n",
    "        \"F\",\n",
    "    ),\n",
    ")\n"
   ]
  },
  {
   "cell_type": "code",
   "execution_count": 9,
   "metadata": {},
   "outputs": [
    {
     "name": "stdout",
     "output_type": "stream",
     "text": [
      "+---+------+\n",
      "|faa|qa_faa|\n",
      "+---+------+\n",
      "+---+------+\n",
      "\n"
     ]
    }
   ],
   "source": [
    "df.select(df.faa, df.qa_faa).filter(df.qa_faa.isNotNull()).show()\n"
   ]
  },
  {
   "cell_type": "markdown",
   "metadata": {},
   "source": [
    "## Pergunta 2"
   ]
  },
  {
   "cell_type": "code",
   "execution_count": 10,
   "metadata": {},
   "outputs": [],
   "source": [
    "df = df.withColumn(\n",
    "    \"qa_name\", when((col(\"name\").isNull() | (col(\"name\") == \"\")), \"M\")\n",
    ")\n"
   ]
  },
  {
   "cell_type": "code",
   "execution_count": 11,
   "metadata": {},
   "outputs": [
    {
     "name": "stdout",
     "output_type": "stream",
     "text": [
      "+----+-------+\n",
      "|name|qa_name|\n",
      "+----+-------+\n",
      "+----+-------+\n",
      "\n"
     ]
    }
   ],
   "source": [
    "df.select(df.name, df.qa_name).filter(df.qa_name.isNotNull()).show()\n"
   ]
  },
  {
   "cell_type": "markdown",
   "metadata": {},
   "source": [
    "## Pergunta 3"
   ]
  },
  {
   "cell_type": "code",
   "execution_count": 12,
   "metadata": {},
   "outputs": [],
   "source": [
    "df = df.withColumn(\n",
    "    \"qa_lat\",\n",
    "    when((col(\"lat\").isNull() | (col(\"lat\") == \"\")), \"M\")\n",
    "    .when(\n",
    "        (col(\"lat\") < -180) | (col(\"lat\") > 180),\n",
    "        \"I\",\n",
    "    )\n",
    "    .when((col(\"lat\").rlike(\"^[a-zA-Z0-9]*$\")), \"A\"),\n",
    ")\n",
    "# checando\n",
    "# df.select(df.lat, df.qa_lat).filter(df.lat < -180).show()\n",
    "# df.select(df.lat, df.qa_lat).filter(df.lat > 180).show()\n"
   ]
  },
  {
   "cell_type": "code",
   "execution_count": 13,
   "metadata": {},
   "outputs": [
    {
     "name": "stdout",
     "output_type": "stream",
     "text": [
      "+---+------+\n",
      "|lat|qa_lat|\n",
      "+---+------+\n",
      "+---+------+\n",
      "\n"
     ]
    }
   ],
   "source": [
    "df.select(df.lat, df.qa_lat).filter(df.qa_lat.isNotNull()).show()\n"
   ]
  },
  {
   "cell_type": "markdown",
   "metadata": {},
   "source": [
    "## Pergunta 4"
   ]
  },
  {
   "cell_type": "code",
   "execution_count": 14,
   "metadata": {},
   "outputs": [
    {
     "name": "stdout",
     "output_type": "stream",
     "text": [
      "+---+------+\n",
      "|lon|qa_lon|\n",
      "+---+------+\n",
      "+---+------+\n",
      "\n"
     ]
    }
   ],
   "source": [
    "df = df.withColumn(\n",
    "    \"qa_lon\",\n",
    "    when((col(\"lon\").isNull() | (col(\"lon\") == \"\")), \"M\")\n",
    "    .when(\n",
    "        (col(\"lon\") < -180) | (col(\"lon\") > 180),\n",
    "        \"I\",\n",
    "    )\n",
    "    .when((col(\"lon\").rlike(\"^[a-zA-Z0-9]*$\")), \"A\"),\n",
    ")\n",
    "# checando\n",
    "\n",
    "df.select(df.lon, df.qa_lon).filter(df.qa_lon.isNotNull()).show()\n"
   ]
  },
  {
   "cell_type": "markdown",
   "metadata": {},
   "source": [
    "## Pergunta 5"
   ]
  },
  {
   "cell_type": "code",
   "execution_count": 15,
   "metadata": {},
   "outputs": [
    {
     "name": "stdout",
     "output_type": "stream",
     "text": [
      "+----+------+\n",
      "| alt|qa_alt|\n",
      "+----+------+\n",
      "|1044|     A|\n",
      "| 264|     A|\n",
      "| 801|     A|\n",
      "| 523|     A|\n",
      "|  11|     A|\n",
      "|1593|     A|\n",
      "| 730|     A|\n",
      "| 492|     A|\n",
      "|1000|     A|\n",
      "| 108|     A|\n",
      "| 409|     A|\n",
      "| 875|     A|\n",
      "|1003|     A|\n",
      "| 951|     A|\n",
      "|1789|     A|\n",
      "| 122|     A|\n",
      "| 152|     A|\n",
      "| 670|     A|\n",
      "|1134|     A|\n",
      "| 885|     A|\n",
      "+----+------+\n",
      "only showing top 20 rows\n",
      "\n"
     ]
    }
   ],
   "source": [
    "df = df.withColumn(\n",
    "    \"qa_alt\",\n",
    "    when((col(\"alt\").isNull() | (col(\"alt\") == \"\")), \"M\")\n",
    "    .when(\n",
    "        (col(\"alt\") < 0),\n",
    "        \"I\",\n",
    "    )\n",
    "    .when((col(\"alt\").rlike(\"^[a-zA-Z0-9]*$\")), \"A\"),\n",
    ")\n",
    "# checando\n",
    "\n",
    "df.select(df.alt, df.qa_alt).filter(df.qa_alt.isNotNull()).show()\n"
   ]
  },
  {
   "cell_type": "markdown",
   "metadata": {},
   "source": [
    "## Pergunta 6"
   ]
  },
  {
   "cell_type": "code",
   "execution_count": 16,
   "metadata": {},
   "outputs": [
    {
     "name": "stdout",
     "output_type": "stream",
     "text": [
      "+---+-----+\n",
      "| tz|qa_tz|\n",
      "+---+-----+\n",
      "+---+-----+\n",
      "\n"
     ]
    }
   ],
   "source": [
    "df = df.withColumn(\n",
    "    \"qa_tz\",\n",
    "    when((col(\"tz\").isNull() | (col(\"tz\") == \"\")), \"M\")\n",
    "    .when(\n",
    "        (col(\"tz\") < -11) | (col(\"tz\") > 14),\n",
    "        \"I\",\n",
    "    )\n",
    "    .when((col(\"tz\").rlike(\"^[a-zA-Z0-9]*$\")), \"A\"),\n",
    ")\n",
    "# checando\n",
    "\n",
    "df.select(df.tz, df.qa_tz).filter(df.qa_tz.isNotNull()).show()\n"
   ]
  },
  {
   "cell_type": "markdown",
   "metadata": {},
   "source": [
    "## Pergunta 7"
   ]
  },
  {
   "cell_type": "code",
   "execution_count": 17,
   "metadata": {},
   "outputs": [
    {
     "name": "stdout",
     "output_type": "stream",
     "text": [
      "+---+------+\n",
      "|dst|qa_dst|\n",
      "+---+------+\n",
      "+---+------+\n",
      "\n"
     ]
    }
   ],
   "source": [
    "df = df.withColumn(\n",
    "    \"qa_dst\",\n",
    "    when((col(\"dst\").isNull() | (col(\"dst\") == \"\")), \"M\")\n",
    "    .when(~col(\"dst\").rlike(\"[EASOZNU]{1}\"), \"C\")\n",
    "    .when(col(\"dst\").rlike(\"[0-9]\"), \"N\"),\n",
    ")\n",
    "# checando\n",
    "\n",
    "df.select(df.dst, df.qa_dst).filter(df.qa_dst.isNotNull()).show()\n"
   ]
  },
  {
   "cell_type": "markdown",
   "metadata": {},
   "source": [
    "Salvando"
   ]
  },
  {
   "cell_type": "code",
   "execution_count": 18,
   "metadata": {},
   "outputs": [],
   "source": [
    "\"\"\"\n",
    "df.repartition(1).write.format(\"parquet\").mode(\"overwrite\").option(\n",
    "    \"header\", \"true\"\n",
    ").save(\"../Data/airports_qa.parquet\")\n",
    "\"\"\"\n",
    "df = df.toPandas()\n",
    "df.to_parquet(\"../Data/airports_qa.parquet\")"
   ]
  },
  {
   "cell_type": "markdown",
   "metadata": {},
   "source": [
    "# Planes Dataset"
   ]
  },
  {
   "cell_type": "code",
   "execution_count": 19,
   "metadata": {},
   "outputs": [],
   "source": [
    "schema = StructType(\n",
    "    [\n",
    "        StructField(\"tailnum\", StringType(), True),\n",
    "        StructField(\"year\", IntegerType(), True),\n",
    "        StructField(\"type\", StringType(), True),\n",
    "        StructField(\"manufacturer\", StringType(), True),\n",
    "        StructField(\"model\", StringType(), True),\n",
    "        StructField(\"engines\", IntegerType(), True),\n",
    "        StructField(\"seats\", IntegerType(), True),\n",
    "        StructField(\"speed\", IntegerType(), True),\n",
    "        StructField(\"engine\", StringType(), True),\n",
    "    ]\n",
    ")\n"
   ]
  },
  {
   "cell_type": "code",
   "execution_count": 20,
   "metadata": {},
   "outputs": [
    {
     "name": "stdout",
     "output_type": "stream",
     "text": [
      "+-------+----+-----------------------+----------------+--------+-------+-----+-----+---------+\n",
      "|tailnum|year|type                   |manufacturer    |model   |engines|seats|speed|engine   |\n",
      "+-------+----+-----------------------+----------------+--------+-------+-----+-----+---------+\n",
      "|N102UW |1998|Fixed wing multi engine|AIRBUS INDUSTRIE|A320-214|2      |182  |null |Turbo-fan|\n",
      "|N103US |1999|Fixed wing multi engine|AIRBUS INDUSTRIE|A320-214|2      |182  |null |Turbo-fan|\n",
      "|N104UW |1999|Fixed wing multi engine|AIRBUS INDUSTRIE|A320-214|2      |182  |null |Turbo-fan|\n",
      "|N105UW |1999|Fixed wing multi engine|AIRBUS INDUSTRIE|A320-214|2      |182  |null |Turbo-fan|\n",
      "|N107US |1999|Fixed wing multi engine|AIRBUS INDUSTRIE|A320-214|2      |182  |null |Turbo-fan|\n",
      "+-------+----+-----------------------+----------------+--------+-------+-----+-----+---------+\n",
      "only showing top 5 rows\n",
      "\n"
     ]
    }
   ],
   "source": [
    "df = spark.read.csv(\"../Datasets/planes.csv\", header=True, schema=schema)\n",
    "# ,inferSchema=True\n",
    "df.show(5, False)\n"
   ]
  },
  {
   "cell_type": "code",
   "execution_count": 21,
   "metadata": {},
   "outputs": [
    {
     "name": "stdout",
     "output_type": "stream",
     "text": [
      "root\n",
      " |-- tailnum: string (nullable = true)\n",
      " |-- year: integer (nullable = true)\n",
      " |-- type: string (nullable = true)\n",
      " |-- manufacturer: string (nullable = true)\n",
      " |-- model: string (nullable = true)\n",
      " |-- engines: integer (nullable = true)\n",
      " |-- seats: integer (nullable = true)\n",
      " |-- speed: integer (nullable = true)\n",
      " |-- engine: string (nullable = true)\n",
      "\n"
     ]
    }
   ],
   "source": [
    "df.printSchema()\n"
   ]
  },
  {
   "cell_type": "markdown",
   "metadata": {},
   "source": [
    "Pergunta 1"
   ]
  },
  {
   "cell_type": "code",
   "execution_count": 22,
   "metadata": {},
   "outputs": [
    {
     "name": "stdout",
     "output_type": "stream",
     "text": [
      "+----------+-----+\n",
      "|qa_tailnum|count|\n",
      "+----------+-----+\n",
      "|         F|   17|\n",
      "|         S| 2609|\n",
      "+----------+-----+\n",
      "\n",
      "+-------+----------+\n",
      "|tailnum|qa_tailnum|\n",
      "+-------+----------+\n",
      "|N102UW |S         |\n",
      "|N103US |S         |\n",
      "|N104UW |S         |\n",
      "|N105UW |S         |\n",
      "|N107US |S         |\n",
      "+-------+----------+\n",
      "only showing top 5 rows\n",
      "\n",
      "+-------+----------+\n",
      "|tailnum|qa_tailnum|\n",
      "+-------+----------+\n",
      "|N102UW |S         |\n",
      "|N103US |S         |\n",
      "|N104UW |S         |\n",
      "|N105UW |S         |\n",
      "|N107US |S         |\n",
      "+-------+----------+\n",
      "only showing top 5 rows\n",
      "\n"
     ]
    }
   ],
   "source": [
    "df = df.withColumn(\n",
    "    \"qa_tailnum\",\n",
    "    when((df.tailnum).isNull() | (df.tailnum == \"\"), \"M\")\n",
    "    .when((length(df.tailnum) != 5), \"S\")\n",
    "    .when(~df.tailnum.startswith(\"N\"), \"FN\")\n",
    "    .when(df.tailnum.rlike(\"I|O|N0\"), \"FE\")\n",
    "    .when(\n",
    "        ~df.tailnum.rlike(\"^N[1-9][0-9]{2,3}([ABCDEFGHJKLMNPQRSTUVXWYZ]{1,2})\"),\n",
    "        \"F\",\n",
    "    ),\n",
    ")\n",
    "\n",
    "df.filter(df.qa_tailnum.isin([\"M\", \"S\", \"FN\", \"FE\", \"F\"])).groupBy(\n",
    "    \"qa_tailnum\"\n",
    ").count().show()\n",
    "\n",
    "df.select(\"tailnum\", \"qa_tailnum\").filter(\n",
    "    df.qa_tailnum.isin([\"M\", \"S\", \"FN\", \"FE\", \"F\"])\n",
    ").show(5, False)\n",
    "\n",
    "df.select(\"tailnum\", \"qa_tailnum\").filter(df.qa_tailnum.isin([\"S\"])).show(\n",
    "    5, False\n",
    ")\n"
   ]
  },
  {
   "cell_type": "markdown",
   "metadata": {},
   "source": [
    "Pergunta 2"
   ]
  },
  {
   "cell_type": "code",
   "execution_count": 23,
   "metadata": {},
   "outputs": [
    {
     "name": "stdout",
     "output_type": "stream",
     "text": [
      "+-------+-----+\n",
      "|qa_year|count|\n",
      "+-------+-----+\n",
      "|   null| 2567|\n",
      "|      M|   60|\n",
      "|      I|    1|\n",
      "+-------+-----+\n",
      "\n"
     ]
    }
   ],
   "source": [
    "df = df.withColumn(\n",
    "    \"qa_year\",\n",
    "    when((df.year).isNull() | (df.year == \"\"), \"M\").when(df.year < 1950, \"I\"),\n",
    ")\n",
    "df.select(\"qa_year\").groupBy(\"qa_year\").count().show()\n",
    "# df.filter(df.qa_year == 'M').show()\n"
   ]
  },
  {
   "cell_type": "markdown",
   "metadata": {},
   "source": [
    "Pergunta 3"
   ]
  },
  {
   "cell_type": "code",
   "execution_count": 24,
   "metadata": {},
   "outputs": [
    {
     "name": "stdout",
     "output_type": "stream",
     "text": [
      "+-------+-----+\n",
      "|qa_type|count|\n",
      "+-------+-----+\n",
      "|   null| 2628|\n",
      "+-------+-----+\n",
      "\n"
     ]
    }
   ],
   "source": [
    "types = [\"Fixed wing multi engine\", \"Fixed wing single engine\", \"Rotorcraft\"]\n",
    "df = df.withColumn(\n",
    "    \"qa_type\",\n",
    "    when((df.type).isNull() | (df.type == \"\"), \"M\").when(\n",
    "        ~df.type.isin(types), \"C\"\n",
    "    ),\n",
    ")\n",
    "df.select(\"qa_type\").groupBy(\"qa_type\").count().show()\n"
   ]
  },
  {
   "cell_type": "markdown",
   "metadata": {},
   "source": [
    "Pergunta 4"
   ]
  },
  {
   "cell_type": "code",
   "execution_count": 25,
   "metadata": {},
   "outputs": [
    {
     "name": "stdout",
     "output_type": "stream",
     "text": [
      "+---------------+-----+\n",
      "|qa_manufacturer|count|\n",
      "+---------------+-----+\n",
      "|           null| 2007|\n",
      "|              C|  621|\n",
      "+---------------+-----+\n",
      "\n"
     ]
    }
   ],
   "source": [
    "manufacturer = [\n",
    "    \"AIRBUS\",\n",
    "    \"BOEING\",\n",
    "    \"BOMBARDIER\",\n",
    "    \"CESSNA\",\n",
    "    \"EMBRAER\",\n",
    "    \"SIKORSKY\",\n",
    "    \"CANADAIR\",\n",
    "    \"PIPER\",\n",
    "    \"MCDONNELL DOUGLAS\",\n",
    "    \"CIRRUS\",\n",
    "    \"BELL\",\n",
    "    \"KILDALL GARY\",\n",
    "    \"LAMBERT RICHARD\",\n",
    "    \"BARKER JACK\",\n",
    "    \"ROBINSON HELICOPTER\",\n",
    "    \"GULFSTREAM\",\n",
    "    \"MARZ BARRY\",\n",
    "]\n",
    "\n",
    "df = df.withColumn(\n",
    "    \"qa_manufacturer\",\n",
    "    when((df.type).isNull() | (df.type == \"\"), \"M\").when(\n",
    "        ~df.manufacturer.isin(manufacturer), \"C\"\n",
    "    ),\n",
    ")\n",
    "df.select(\"qa_manufacturer\").groupBy(\"qa_manufacturer\").count().show()\n"
   ]
  },
  {
   "cell_type": "markdown",
   "metadata": {},
   "source": [
    "Pergunta 5"
   ]
  },
  {
   "cell_type": "code",
   "execution_count": 26,
   "metadata": {},
   "outputs": [
    {
     "name": "stdout",
     "output_type": "stream",
     "text": [
      "+--------+-----+\n",
      "|qa_model|count|\n",
      "+--------+-----+\n",
      "|       F|   15|\n",
      "|    null| 2613|\n",
      "+--------+-----+\n",
      "\n"
     ]
    }
   ],
   "source": [
    "df = df.withColumn(\n",
    "    \"qa_model\",\n",
    "    when(\n",
    "        ((df.manufacturer == \"AIRBUS\") & ~(df.model.startswith(\"A\")))\n",
    "        | ((df.manufacturer == \"BOEING\") & ~(df.model.startswith(\"7\")))\n",
    "        | (\n",
    "            (\n",
    "                (df.manufacturer == \"BOMBARDIER\")\n",
    "                | (df.manufacturer == \"CANADAIR\")\n",
    "            )\n",
    "            & ~(df.model.startswith(\"CL\"))\n",
    "        )\n",
    "        | (\n",
    "            (df.manufacturer == \"MCDONNELL DOUGLAS\")\n",
    "            & ~((df.model.startswith(\"MD\")) | (df.model.startswith(\"DC\")))\n",
    "        ),\n",
    "        \"F\",\n",
    "    ).when((df.manufacturer).isNull() | (df.manufacturer == \"\"), \"M\"),\n",
    ")\n",
    "df.select(\"qa_model\").groupBy(\"qa_model\").count().show()\n"
   ]
  },
  {
   "cell_type": "markdown",
   "metadata": {},
   "source": [
    "Pergunta 6"
   ]
  },
  {
   "cell_type": "code",
   "execution_count": 27,
   "metadata": {},
   "outputs": [
    {
     "name": "stdout",
     "output_type": "stream",
     "text": [
      "+----------+-----+\n",
      "|qa_engines|count|\n",
      "+----------+-----+\n",
      "|         A| 2628|\n",
      "+----------+-----+\n",
      "\n"
     ]
    }
   ],
   "source": [
    "df = df.withColumn(\n",
    "    \"qa_engines\",\n",
    "    when((df.engines).isNull() | (df.engines == \"\"), \"M\")\n",
    "    .when(~(df.engines.between(1, 4)), \"I\")\n",
    "    .when(df.engines.rlike(\"^[a-zA-Z0-9]*$\"), \"A\"),\n",
    ")\n",
    "\n",
    "df.select(\"qa_engines\").groupBy(\"qa_engines\").count().show()\n"
   ]
  },
  {
   "cell_type": "markdown",
   "metadata": {},
   "source": [
    "Pergunta 7"
   ]
  },
  {
   "cell_type": "code",
   "execution_count": 28,
   "metadata": {},
   "outputs": [
    {
     "name": "stdout",
     "output_type": "stream",
     "text": [
      "+--------+-----+\n",
      "|qa_seats|count|\n",
      "+--------+-----+\n",
      "|       A| 2628|\n",
      "+--------+-----+\n",
      "\n"
     ]
    }
   ],
   "source": [
    "df = df.withColumn(\n",
    "    \"qa_seats\",\n",
    "    when((df.seats).isNull() | (df.seats == \"\"), \"M\")\n",
    "    .when(~(df.seats.between(2, 500)), \"I\")\n",
    "    .when(df.seats.rlike(\"^[a-zA-Z0-9]*$\"), \"A\"),\n",
    ")\n",
    "\n",
    "df.select(\"qa_seats\").groupBy(\"qa_seats\").count().show()\n"
   ]
  },
  {
   "cell_type": "markdown",
   "metadata": {},
   "source": [
    "Pergunta 8"
   ]
  },
  {
   "cell_type": "code",
   "execution_count": 29,
   "metadata": {},
   "outputs": [
    {
     "name": "stdout",
     "output_type": "stream",
     "text": [
      "+--------+-----+\n",
      "|qa_speed|count|\n",
      "+--------+-----+\n",
      "|       M| 2622|\n",
      "|       A|    6|\n",
      "+--------+-----+\n",
      "\n"
     ]
    }
   ],
   "source": [
    "df = df.withColumn(\n",
    "    \"qa_speed\",\n",
    "    when((df.speed).isNull() | (df.speed == \"\"), \"M\")\n",
    "    .when(~(df.speed.between(50, 150)), \"I\")\n",
    "    .when(df.speed.rlike(\"^[a-zA-Z0-9]*$\"), \"A\"),\n",
    ")\n",
    "\n",
    "df.select(\"qa_speed\").groupBy(\"qa_speed\").count().show()\n"
   ]
  },
  {
   "cell_type": "markdown",
   "metadata": {},
   "source": [
    "Pergunta 9"
   ]
  },
  {
   "cell_type": "code",
   "execution_count": 30,
   "metadata": {},
   "outputs": [
    {
     "name": "stdout",
     "output_type": "stream",
     "text": [
      "+---------+-----+\n",
      "|qa_engine|count|\n",
      "+---------+-----+\n",
      "|     null| 2618|\n",
      "|        C|   10|\n",
      "+---------+-----+\n",
      "\n"
     ]
    }
   ],
   "source": [
    "category = [\"Turbo-fan\", \"Turbo-jet\", \"Turbo-prop\", \"Turbo-shaft\", \"4 Cycle\"]\n",
    "\n",
    "df = df.withColumn(\n",
    "    \"qa_engine\",\n",
    "    when((df.engine).isNull() | (df.engine == \"\"), \"M\").when(\n",
    "        ~(df.engine.isin(category)), \"C\"\n",
    "    ),\n",
    ")\n",
    "\n",
    "\n",
    "df.select(\"qa_engine\").groupBy(\"qa_engine\").count().show()\n"
   ]
  },
  {
   "cell_type": "markdown",
   "metadata": {},
   "source": [
    "Salvando"
   ]
  },
  {
   "cell_type": "code",
   "execution_count": 31,
   "metadata": {},
   "outputs": [],
   "source": [
    "\"\"\"\n",
    "df.repartition(1).write.format(\"parquet\").mode(\"overwrite\").option(\n",
    "    \"header\", \"true\"\n",
    ").save(\"../Data/planes_qa.parquet\")\n",
    "\"\"\"\n",
    "df = df.toPandas()\n",
    "df.to_parquet(\"../Data/planes_qa.parquet\")"
   ]
  },
  {
   "cell_type": "markdown",
   "metadata": {},
   "source": [
    "# Flights Dataset"
   ]
  },
  {
   "cell_type": "code",
   "execution_count": 32,
   "metadata": {},
   "outputs": [],
   "source": [
    "schema = (\n",
    "    StructType()\n",
    "    .add(\"year\", IntegerType(), True)\n",
    "    .add(\"month\", IntegerType(), True)\n",
    "    .add(\"day\", IntegerType(), True)\n",
    "    .add(\"dep_time\", StringType(), True)\n",
    "    .add(\"dep_delay\", IntegerType(), True)\n",
    "    .add(\"arr_time\", StringType(), True)\n",
    "    .add(\"arr_delay\", IntegerType(), True)\n",
    "    .add(\"carrier\", StringType(), True)\n",
    "    .add(\"tailnum\", StringType(), True)\n",
    "    .add(\"flight\", StringType(), True)\n",
    "    .add(\"origin\", StringType(), True)\n",
    "    .add(\"dest\", StringType(), True)\n",
    "    .add(\"air_time\", IntegerType(), True)\n",
    "    .add(\"distance\", IntegerType(), True)\n",
    "    .add(\"hour\", IntegerType(), True)\n",
    "    .add(\"minute\", IntegerType(), True)\n",
    ")\n"
   ]
  },
  {
   "cell_type": "code",
   "execution_count": 33,
   "metadata": {},
   "outputs": [
    {
     "name": "stdout",
     "output_type": "stream",
     "text": [
      "+----+-----+---+--------+---------+--------+---------+-------+-------+------+------+----+--------+--------+----+------+\n",
      "|year|month|day|dep_time|dep_delay|arr_time|arr_delay|carrier|tailnum|flight|origin|dest|air_time|distance|hour|minute|\n",
      "+----+-----+---+--------+---------+--------+---------+-------+-------+------+------+----+--------+--------+----+------+\n",
      "|2014|12   |8  |658     |-7       |935     |-5       |VX     |N846VA |1780  |SEA   |LAX |132     |954     |6   |58    |\n",
      "|2014|1    |22 |1040    |5        |1505    |5        |AS     |N559AS |851   |SEA   |HNL |360     |2677    |10  |40    |\n",
      "|2014|3    |9  |1443    |-2       |1652    |2        |VX     |N847VA |755   |SEA   |SFO |111     |679     |14  |43    |\n",
      "|2014|4    |9  |1705    |45       |1839    |34       |WN     |N360SW |344   |PDX   |SJC |83      |569     |17  |5     |\n",
      "|2014|3    |9  |754     |-1       |1015    |1        |AS     |N612AS |522   |SEA   |BUR |127     |937     |7   |54    |\n",
      "+----+-----+---+--------+---------+--------+---------+-------+-------+------+------+----+--------+--------+----+------+\n",
      "only showing top 5 rows\n",
      "\n"
     ]
    }
   ],
   "source": [
    "df = spark.read.csv(\"../Datasets/flights.csv\", header=True, schema=schema)\n",
    "# ,inferSchema=True\n",
    "df.show(5, False)\n"
   ]
  },
  {
   "cell_type": "markdown",
   "metadata": {},
   "source": [
    "Pergunta 1"
   ]
  },
  {
   "cell_type": "code",
   "execution_count": 34,
   "metadata": {},
   "outputs": [
    {
     "name": "stdout",
     "output_type": "stream",
     "text": [
      "+-----------------+-----+\n",
      "|qa_year_month_day|count|\n",
      "+-----------------+-----+\n",
      "|             null|10000|\n",
      "+-----------------+-----+\n",
      "\n"
     ]
    }
   ],
   "source": [
    "df = df.withColumn(\n",
    "    \"qa_year_month_day\",\n",
    "    when(df.year.isNull(), \"MY\")\n",
    "    .when(df.month.isNull(), \"MM\")\n",
    "    .when(df.day.isNull(), \"MD\")\n",
    "    .when(df.year < 1950, \"IY\")\n",
    "    .when(~(df.month.between(1, 12)), \"IM\")\n",
    "    .when(~(df.day.between(1, 31)), \"ID\")\n",
    "    .when((df.month == 2) & ((col(\"day\") > 29)), \"ID\"),\n",
    ")\n",
    "\n",
    "df.select(\"qa_year_month_day\").groupBy(\"qa_year_month_day\").count().show()\n"
   ]
  },
  {
   "cell_type": "markdown",
   "metadata": {},
   "source": [
    "Pergunta 2"
   ]
  },
  {
   "cell_type": "code",
   "execution_count": 35,
   "metadata": {},
   "outputs": [
    {
     "name": "stdout",
     "output_type": "stream",
     "text": [
      "+--------------+-----+\n",
      "|qa_hour_minute|count|\n",
      "+--------------+-----+\n",
      "|          null| 9952|\n",
      "|            MH|   48|\n",
      "+--------------+-----+\n",
      "\n"
     ]
    }
   ],
   "source": [
    "df = df.withColumn(\n",
    "    \"qa_hour_minute\",\n",
    "    when(df.hour.isNull(), \"MH\")\n",
    "    .when(df.minute.isNull(), \"MM\")\n",
    "    .when(~(df.hour.between(0, 24)), \"IH\")\n",
    "    .when(~(df.minute.between(0, 59)), \"IM\"),\n",
    ")\n",
    "\n",
    "df.select(\"qa_hour_minute\").groupBy(\"qa_hour_minute\").count().show()\n"
   ]
  },
  {
   "cell_type": "markdown",
   "metadata": {},
   "source": [
    "Pergunta 3\n"
   ]
  },
  {
   "cell_type": "code",
   "execution_count": 36,
   "metadata": {},
   "outputs": [
    {
     "name": "stdout",
     "output_type": "stream",
     "text": [
      "+---------------+-----+\n",
      "|qa_dep_arr_time|count|\n",
      "+---------------+-----+\n",
      "|           null| 9704|\n",
      "|             MD|   48|\n",
      "|             FA|  151|\n",
      "|             MA|    7|\n",
      "|             FD|   90|\n",
      "+---------------+-----+\n",
      "\n"
     ]
    }
   ],
   "source": [
    "df = df.withColumn(\n",
    "    \"qa_dep_arr_time\",\n",
    "    when((df.dep_time.isNull()) | (df.dep_time == \"NA\"), \"MD\")\n",
    "    .when((df.arr_time.isNull()) | (df.arr_time == \"NA\"), \"MA\")\n",
    "    .when(~df.dep_time.rlike(\"^([0-9]|1[0-9]|2[0-3])[0-5][0-9]$\"), \"FD\")\n",
    "    .when(~df.arr_time.rlike(\"^([0-9]|1[0-9]|2[0-3])[0-5][0-9]$\"), \"FA\"),\n",
    ")\n",
    "df.select(\"qa_dep_arr_time\").groupBy(\"qa_dep_arr_time\").count().show()\n"
   ]
  },
  {
   "cell_type": "code",
   "execution_count": 37,
   "metadata": {},
   "outputs": [
    {
     "name": "stdout",
     "output_type": "stream",
     "text": [
      "+--------+-----+\n",
      "|arr_time|count|\n",
      "+--------+-----+\n",
      "|      NA|   55|\n",
      "|    2104|   23|\n",
      "|    2101|   22|\n",
      "+--------+-----+\n",
      "only showing top 3 rows\n",
      "\n"
     ]
    }
   ],
   "source": [
    "df.select(\"arr_time\").groupBy(\"arr_time\").count().orderBy(\n",
    "    \"count\", ascending=False\n",
    ").show(3)\n"
   ]
  },
  {
   "cell_type": "markdown",
   "metadata": {},
   "source": [
    "Pergunta 4"
   ]
  },
  {
   "cell_type": "code",
   "execution_count": 38,
   "metadata": {},
   "outputs": [
    {
     "name": "stdout",
     "output_type": "stream",
     "text": [
      "+----------------+-----+\n",
      "|qa_dep_arr_delay|count|\n",
      "+----------------+-----+\n",
      "|            null| 9925|\n",
      "|              MD|   48|\n",
      "|              MA|   27|\n",
      "+----------------+-----+\n",
      "\n"
     ]
    }
   ],
   "source": [
    "df = df.withColumn(\n",
    "    \"qa_dep_arr_delay\",\n",
    "    when(df.dep_delay.isNull(), \"MD\").when(df.arr_delay.isNull(), \"MA\"),\n",
    ")\n",
    "\n",
    "df.select(\"qa_dep_arr_delay\").groupBy(\"qa_dep_arr_delay\").count().show()\n"
   ]
  },
  {
   "cell_type": "markdown",
   "metadata": {},
   "source": [
    "Pergunta 5"
   ]
  },
  {
   "cell_type": "code",
   "execution_count": 39,
   "metadata": {},
   "outputs": [
    {
     "name": "stdout",
     "output_type": "stream",
     "text": [
      "+----------+-----+\n",
      "|qa_carrier|count|\n",
      "+----------+-----+\n",
      "|      null|10000|\n",
      "+----------+-----+\n",
      "\n"
     ]
    }
   ],
   "source": [
    "df = df.withColumn(\n",
    "    \"qa_carrier\",\n",
    "    when(df.carrier.isNull(), \"M\").when(\n",
    "        ~(df.carrier.rlike(\"([0-9a-zA-Z]{2})\")), \"F\"\n",
    "    ),\n",
    ")\n",
    "\n",
    "\n",
    "df.select(\"qa_carrier\").groupBy(\"qa_carrier\").count().show()\n"
   ]
  },
  {
   "cell_type": "markdown",
   "metadata": {},
   "source": [
    "Pergunta 6"
   ]
  },
  {
   "cell_type": "code",
   "execution_count": 40,
   "metadata": {},
   "outputs": [
    {
     "name": "stdout",
     "output_type": "stream",
     "text": [
      "+----------+-----+\n",
      "|qa_tailnum|count|\n",
      "+----------+-----+\n",
      "|         F|  987|\n",
      "|      null| 8997|\n",
      "|         M|   14|\n",
      "|        FN|    2|\n",
      "+----------+-----+\n",
      "\n"
     ]
    }
   ],
   "source": [
    "df = df.withColumn(\n",
    "    \"qa_tailnum\",\n",
    "    when((df.tailnum.isNull()) | (df.tailnum == \"NA\"), \"M\")\n",
    "    .when((length(df.tailnum) != 5) & (length(df.tailnum) != 6), \"S\")\n",
    "    .when((df.tailnum.rlike(\"^N\") == False), \"FN\")\n",
    "    .when((df.tailnum.rlike(\"^[IO0]\") == True), \"FE\")\n",
    "    .when((df.tailnum.rlike(\"^N([0-9]{1,4})([A-Z]{1,2}$)\") == False), \"F\"),\n",
    ")\n",
    "df.select(\"qa_tailnum\").groupBy(\"qa_tailnum\").count().show()\n"
   ]
  },
  {
   "cell_type": "markdown",
   "metadata": {},
   "source": [
    "Pergunta 7"
   ]
  },
  {
   "cell_type": "code",
   "execution_count": 41,
   "metadata": {},
   "outputs": [
    {
     "name": "stdout",
     "output_type": "stream",
     "text": [
      "+---------+-----+\n",
      "|qa_flight|count|\n",
      "+---------+-----+\n",
      "|        F| 6158|\n",
      "|     null| 3842|\n",
      "+---------+-----+\n",
      "\n"
     ]
    }
   ],
   "source": [
    "df = df.withColumn(\n",
    "    \"qa_flight\",\n",
    "    when(df.flight.isNull(), \"M\").when(~df.flight.rlike(\"([0-9]{4})\"), \"F\"),\n",
    ")\n",
    "# df.select(\"qa_flight\",\"flight\").filter(df.qa_flight==\"F\").show()\n",
    "df.select(\"qa_flight\").groupBy(\"qa_flight\").count().show()\n"
   ]
  },
  {
   "cell_type": "markdown",
   "metadata": {},
   "source": [
    "Pergunta 8"
   ]
  },
  {
   "cell_type": "code",
   "execution_count": 42,
   "metadata": {},
   "outputs": [
    {
     "name": "stdout",
     "output_type": "stream",
     "text": [
      "+--------------+-----+\n",
      "|qa_origin_dest|count|\n",
      "+--------------+-----+\n",
      "|          null|10000|\n",
      "+--------------+-----+\n",
      "\n"
     ]
    }
   ],
   "source": [
    "df = df.withColumn(\n",
    "    \"qa_origin_dest\",\n",
    "    when(df.origin.isNull(), \"MO\")\n",
    "    .when(df.dest.isNull(), \"MD\")\n",
    "    .when(~df.origin.rlike(\"[0-9a-zA-Z]{3}\"), \"FO\")\n",
    "    .when(~df.dest.rlike(\"[0-9a-zA-Z]{3}\"), \"FD\"),\n",
    ")\n",
    "df.select(\"qa_origin_dest\").groupBy(\"qa_origin_dest\").count().show()\n"
   ]
  },
  {
   "cell_type": "markdown",
   "metadata": {},
   "source": [
    "Pergunta 9"
   ]
  },
  {
   "cell_type": "code",
   "execution_count": 43,
   "metadata": {},
   "outputs": [
    {
     "name": "stdout",
     "output_type": "stream",
     "text": [
      "+-----------+-----+\n",
      "|qa_air_time|count|\n",
      "+-----------+-----+\n",
      "|       null| 9925|\n",
      "|          M|   75|\n",
      "+-----------+-----+\n",
      "\n"
     ]
    }
   ],
   "source": [
    "df = df.withColumn(\n",
    "    \"qa_air_time\",\n",
    "    when(df.air_time.isNull(), \"M\").when(~df.air_time.between(20, 500), \"I\"),\n",
    ")\n",
    "\n",
    "# df.select(\"qa_air_time\",\"air_time\").filter(df.qa_air_time==\"M\").show()\n",
    "df.select(\"qa_air_time\").groupBy(\"qa_air_time\").count().show()\n"
   ]
  },
  {
   "cell_type": "markdown",
   "metadata": {},
   "source": [
    "Pergunta 10"
   ]
  },
  {
   "cell_type": "code",
   "execution_count": 44,
   "metadata": {},
   "outputs": [
    {
     "name": "stdout",
     "output_type": "stream",
     "text": [
      "+-----------+-----+\n",
      "|qa_distance|count|\n",
      "+-----------+-----+\n",
      "|       null|10000|\n",
      "+-----------+-----+\n",
      "\n"
     ]
    }
   ],
   "source": [
    "\n",
    "\n",
    "df = df.withColumn(\"qa_distance\",\n",
    "                         when(df.distance.isNull(), \"M\")\n",
    "                        .when(~df.distance.between(50, 3000), \"I\"))\n",
    "df.select(\"qa_distance\").groupBy(\"qa_distance\").count().show()            "
   ]
  },
  {
   "cell_type": "markdown",
   "metadata": {},
   "source": [
    "Pergunta 11"
   ]
  },
  {
   "cell_type": "code",
   "execution_count": 45,
   "metadata": {},
   "outputs": [
    {
     "name": "stdout",
     "output_type": "stream",
     "text": [
      "+-------------------+-----+\n",
      "|qa_distance_airtime|count|\n",
      "+-------------------+-----+\n",
      "|                  M|   75|\n",
      "|                 TR| 4831|\n",
      "|                 TS|   67|\n",
      "|                 TL| 5027|\n",
      "+-------------------+-----+\n",
      "\n"
     ]
    }
   ],
   "source": [
    "\n",
    "\n",
    "df = df.withColumn(\"qa_distance_airtime\",\n",
    "                        when((df.distance.isNull())|(df.air_time.isNull()), \"M\")\n",
    "                       .when(df.air_time >= (df.distance*0.1 + 30), \"TL\")\n",
    "                       .when(df.air_time <= (df.distance*0.1 +10), \"TS\")\n",
    "                       .otherwise(\"TR\"))\n",
    "df.select(\"qa_distance_airtime\").groupBy(\"qa_distance_airtime\").count().show()  \n"
   ]
  },
  {
   "cell_type": "markdown",
   "metadata": {},
   "source": [
    "Salvando"
   ]
  },
  {
   "cell_type": "code",
   "execution_count": 46,
   "metadata": {},
   "outputs": [],
   "source": [
    "\"\"\"\n",
    "df.repartition(1).write.format(\"parquet\").mode(\"overwrite\").option(\n",
    "    \"header\", \"true\"\n",
    ").save(\"../Data/flights_qa.parquet\")\n",
    "\"\"\"\n",
    "df = df.toPandas()\n",
    "df.to_parquet(\"../Data/flights_qa.parquet\")\n"
   ]
  }
 ],
 "metadata": {
  "kernelspec": {
   "display_name": "Python 3.10.7 64-bit",
   "language": "python",
   "name": "python3"
  },
  "language_info": {
   "codemirror_mode": {
    "name": "ipython",
    "version": 3
   },
   "file_extension": ".py",
   "mimetype": "text/x-python",
   "name": "python",
   "nbconvert_exporter": "python",
   "pygments_lexer": "ipython3",
   "version": "3.10.7"
  },
  "orig_nbformat": 4,
  "vscode": {
   "interpreter": {
    "hash": "26de051ba29f2982a8de78e945f0abaf191376122a1563185a90213a26c5da77"
   }
  }
 },
 "nbformat": 4,
 "nbformat_minor": 2
}
