{
 "cells": [
  {
   "cell_type": "code",
   "execution_count": 1,
   "metadata": {},
   "outputs": [],
   "source": [
    "from pyspark import SparkContext, SparkConf\n",
    "from pyspark.sql import SparkSession\n",
    "from pyspark.sql import functions as F\n",
    "from pyspark.sql.types import (\n",
    "    StructType,\n",
    "    StructField,\n",
    "    StringType,\n",
    "    IntegerType,\n",
    "    FloatType,\n",
    ")\n",
    "import findspark\n",
    "import numpy as np\n"
   ]
  },
  {
   "cell_type": "code",
   "execution_count": 2,
   "metadata": {},
   "outputs": [],
   "source": [
    "findspark.init()\n"
   ]
  },
  {
   "cell_type": "code",
   "execution_count": 3,
   "metadata": {},
   "outputs": [],
   "source": [
    "# Creating a spark context class\n",
    "sc = SparkContext()\n",
    "\n",
    "# Creating a spark session\n",
    "\"\"\"\n",
    "spark = (\n",
    "    SparkSession.builder.appName(\"Semana4\")\n",
    "    .config(\"spark.some.config.option\", \"some-value\")\n",
    "    .getOrCreate()\n",
    ")\n",
    "\"\"\"\n",
    "spark = SparkSession.builder.appName(\"Semana4\").master(\"local[*]\")\n"
   ]
  },
  {
   "cell_type": "code",
   "execution_count": 92,
   "metadata": {},
   "outputs": [],
   "source": [
    "path_airports = \"../Data/airports_qa.parquet\"\n",
    "\n",
    "df_airports_qa = (\n",
    "    spark.getOrCreate()\n",
    "    .read.format(\"parquet\")\n",
    "    .option(\"header\", \"true\")\n",
    "    .load(path_airports)\n",
    ")\n",
    "\n",
    "path_planes = \"../Data/planes_qa.parquet\"\n",
    "\n",
    "df_planes_qa = (\n",
    "    spark.getOrCreate()\n",
    "    .read.format(\"parquet\")\n",
    "    .option(\"header\", \"true\")\n",
    "    .load(path_planes)\n",
    ")\n",
    "\n",
    "\n",
    "path_flights = \"../Data/flights_qa.parquet\"\n",
    "\n",
    "df_flights_qa = (\n",
    "    spark.getOrCreate()\n",
    "    .read.format(\"parquet\")\n",
    "    .option(\"header\", \"true\")\n",
    "    .load(path_flights)\n",
    ")\n",
    "path_airports = \"../Data/airports_proc.parquet\"\n",
    "df_airports_proc = (\n",
    "    spark.getOrCreate()\n",
    "    .read.format(\"parquet\")\n",
    "    .option(\"header\", \"true\")\n",
    "    .load(path_airports)\n",
    ")\n",
    "\n",
    "path_planes = \"../Data/planes_proc.parquet\"\n",
    "\n",
    "df_planes_proc = (\n",
    "    spark.getOrCreate()\n",
    "    .read.format(\"parquet\")\n",
    "    .option(\"header\", \"true\")\n",
    "    .load(path_planes)\n",
    ")\n",
    "\n",
    "\n",
    "path_flights = \"../Data/flights_proc.parquet\"\n",
    "\n",
    "df_flights_proc = (\n",
    "    spark.getOrCreate()\n",
    "    .read.format(\"parquet\")\n",
    "    .option(\"header\", \"true\")\n",
    "    .load(path_flights)\n",
    ")\n"
   ]
  },
  {
   "cell_type": "markdown",
   "metadata": {},
   "source": [
    "# Pergunta qualidade"
   ]
  },
  {
   "cell_type": "markdown",
   "metadata": {},
   "source": [
    "Pergunta 1"
   ]
  },
  {
   "cell_type": "code",
   "execution_count": 6,
   "metadata": {},
   "outputs": [
    {
     "name": "stdout",
     "output_type": "stream",
     "text": [
      "root\n",
      " |-- year: integer (nullable = true)\n",
      " |-- month: integer (nullable = true)\n",
      " |-- day: integer (nullable = true)\n",
      " |-- dep_time: string (nullable = true)\n",
      " |-- dep_delay: double (nullable = true)\n",
      " |-- arr_time: string (nullable = true)\n",
      " |-- arr_delay: double (nullable = true)\n",
      " |-- carrier: string (nullable = true)\n",
      " |-- tailnum: string (nullable = true)\n",
      " |-- flight: string (nullable = true)\n",
      " |-- origin: string (nullable = true)\n",
      " |-- dest: string (nullable = true)\n",
      " |-- air_time: double (nullable = true)\n",
      " |-- distance: integer (nullable = true)\n",
      " |-- hour: double (nullable = true)\n",
      " |-- minute: double (nullable = true)\n",
      " |-- qa_year_month_day: integer (nullable = true)\n",
      " |-- qa_hour_minute: string (nullable = true)\n",
      " |-- qa_dep_arr_time: string (nullable = true)\n",
      " |-- qa_dep_arr_delay: string (nullable = true)\n",
      " |-- qa_carrier: integer (nullable = true)\n",
      " |-- qa_tailnum: string (nullable = true)\n",
      " |-- qa_flight: string (nullable = true)\n",
      " |-- qa_origin_dest: integer (nullable = true)\n",
      " |-- qa_air_time: string (nullable = true)\n",
      " |-- qa_distance: integer (nullable = true)\n",
      " |-- qa_distance_airtime: string (nullable = true)\n",
      " |-- faa: string (nullable = true)\n",
      " |-- name: string (nullable = true)\n",
      " |-- lat: double (nullable = true)\n",
      " |-- lon: double (nullable = true)\n",
      " |-- alt: integer (nullable = true)\n",
      " |-- tz: double (nullable = true)\n",
      " |-- dst: string (nullable = true)\n",
      " |-- qa_faa: integer (nullable = true)\n",
      " |-- qa_name: integer (nullable = true)\n",
      " |-- qa_lat: integer (nullable = true)\n",
      " |-- qa_lon: integer (nullable = true)\n",
      " |-- qa_alt: string (nullable = true)\n",
      " |-- qa_tz: integer (nullable = true)\n",
      " |-- qa_dst: integer (nullable = true)\n",
      " |-- faa_dest: string (nullable = true)\n",
      " |-- name: string (nullable = true)\n",
      " |-- lat: double (nullable = true)\n",
      " |-- lon: double (nullable = true)\n",
      " |-- alt: integer (nullable = true)\n",
      " |-- tz: double (nullable = true)\n",
      " |-- dst: string (nullable = true)\n",
      " |-- qa_faa_dest: integer (nullable = true)\n",
      " |-- qa_name_dest: integer (nullable = true)\n",
      " |-- qa_lat_dest: integer (nullable = true)\n",
      " |-- qa_lon_dest: integer (nullable = true)\n",
      " |-- qa_alt_dest: string (nullable = true)\n",
      " |-- qa_tz_dest: integer (nullable = true)\n",
      " |-- qa_dst_dest: integer (nullable = true)\n",
      " |-- tailnum: string (nullable = true)\n",
      " |-- year: double (nullable = true)\n",
      " |-- type: string (nullable = true)\n",
      " |-- manufacturer: string (nullable = true)\n",
      " |-- model: string (nullable = true)\n",
      " |-- engines: integer (nullable = true)\n",
      " |-- seats: integer (nullable = true)\n",
      " |-- speed: double (nullable = true)\n",
      " |-- engine: string (nullable = true)\n",
      " |-- qa_tailnum_plane: string (nullable = true)\n",
      " |-- qa_year: string (nullable = true)\n",
      " |-- qa_type: integer (nullable = true)\n",
      " |-- qa_manufacturer: string (nullable = true)\n",
      " |-- qa_model: string (nullable = true)\n",
      " |-- qa_engines: string (nullable = true)\n",
      " |-- qa_seats: string (nullable = true)\n",
      " |-- qa_speed: string (nullable = true)\n",
      " |-- qa_engine: string (nullable = true)\n",
      "\n"
     ]
    }
   ],
   "source": [
    "df = df_flights_qa.join(\n",
    "    df_airports_qa, df_flights_qa.origin == df_airports_qa.faa, \"left\"\n",
    ")\n",
    "df_airports_qa_1 = (\n",
    "    df_airports_qa.withColumnRenamed(\"faa\", \"faa_dest\")\n",
    "    .withColumnRenamed(\"qa_faa\", \"qa_faa_dest\")\n",
    "    .withColumnRenamed(\"qa_name\", \"qa_name_dest\")\n",
    "    .withColumnRenamed(\"qa_lat\", \"qa_lat_dest\")\n",
    "    .withColumnRenamed(\"qa_lon\", \"qa_lon_dest\")\n",
    "    .withColumnRenamed(\"qa_tz\", \"qa_tz_dest\")\n",
    "    .withColumnRenamed(\"qa_dst\", \"qa_dst_dest\")\n",
    "    .withColumnRenamed(\"qa_alt\", \"qa_alt_dest\")\n",
    ")\n",
    "\n",
    "df = df.join(df_airports_qa_1, df.dest == df_airports_qa_1.faa_dest, \"left\")\n",
    "df_planes_qa = df_planes_qa.withColumnRenamed(\"qa_tailnum\", \"qa_tailnum_plane\")\n",
    "df = df.join(df_planes_qa, df.tailnum == df_planes_qa.tailnum, \"left\")\n",
    "\n",
    "df.printSchema()\n"
   ]
  },
  {
   "cell_type": "markdown",
   "metadata": {},
   "source": [
    "Pergunta 2"
   ]
  },
  {
   "cell_type": "code",
   "execution_count": 8,
   "metadata": {},
   "outputs": [
    {
     "name": "stdout",
     "output_type": "stream",
     "text": [
      "+-----------------+-----+\n",
      "|qa_year_month_day|count|\n",
      "+-----------------+-----+\n",
      "+-----------------+-----+\n",
      "\n",
      "+--------------+-----+\n",
      "|qa_hour_minute|count|\n",
      "+--------------+-----+\n",
      "|             M|   48|\n",
      "+--------------+-----+\n",
      "\n",
      "+---------------+-----+\n",
      "|qa_dep_arr_time|count|\n",
      "+---------------+-----+\n",
      "|              F|  241|\n",
      "|              M|   55|\n",
      "+---------------+-----+\n",
      "\n",
      "+----------------+-----+\n",
      "|qa_dep_arr_delay|count|\n",
      "+----------------+-----+\n",
      "|               M|   75|\n",
      "+----------------+-----+\n",
      "\n",
      "+----------+-----+\n",
      "|qa_carrier|count|\n",
      "+----------+-----+\n",
      "+----------+-----+\n",
      "\n",
      "+----------+-----+\n",
      "|qa_tailnum|count|\n",
      "+----------+-----+\n",
      "|         F|  989|\n",
      "|         M|   14|\n",
      "+----------+-----+\n",
      "\n",
      "+---------+-----+\n",
      "|qa_flight|count|\n",
      "+---------+-----+\n",
      "|        F| 6158|\n",
      "+---------+-----+\n",
      "\n",
      "+--------------+-----+\n",
      "|qa_origin_dest|count|\n",
      "+--------------+-----+\n",
      "+--------------+-----+\n",
      "\n",
      "+-----------+-----+\n",
      "|qa_air_time|count|\n",
      "+-----------+-----+\n",
      "|          M|   75|\n",
      "+-----------+-----+\n",
      "\n",
      "+-----------+-----+\n",
      "|qa_distance|count|\n",
      "+-----------+-----+\n",
      "+-----------+-----+\n",
      "\n",
      "+-------------------+-----+\n",
      "|qa_distance_airtime|count|\n",
      "+-------------------+-----+\n",
      "|                  T| 9925|\n",
      "|                  M|   75|\n",
      "+-------------------+-----+\n",
      "\n",
      "+------+-----+\n",
      "|qa_faa|count|\n",
      "+------+-----+\n",
      "+------+-----+\n",
      "\n",
      "+-------+-----+\n",
      "|qa_name|count|\n",
      "+-------+-----+\n",
      "+-------+-----+\n",
      "\n",
      "+------+-----+\n",
      "|qa_lat|count|\n",
      "+------+-----+\n",
      "+------+-----+\n",
      "\n",
      "+------+-----+\n",
      "|qa_lon|count|\n",
      "+------+-----+\n",
      "+------+-----+\n",
      "\n",
      "+------+-----+\n",
      "|qa_alt|count|\n",
      "+------+-----+\n",
      "|     A|10000|\n",
      "+------+-----+\n",
      "\n",
      "+-----+-----+\n",
      "|qa_tz|count|\n",
      "+-----+-----+\n",
      "+-----+-----+\n",
      "\n",
      "+------+-----+\n",
      "|qa_dst|count|\n",
      "+------+-----+\n",
      "+------+-----+\n",
      "\n",
      "+-----------+-----+\n",
      "|qa_faa_dest|count|\n",
      "+-----------+-----+\n",
      "+-----------+-----+\n",
      "\n",
      "+------------+-----+\n",
      "|qa_name_dest|count|\n",
      "+------------+-----+\n",
      "+------------+-----+\n",
      "\n",
      "+-----------+-----+\n",
      "|qa_lat_dest|count|\n",
      "+-----------+-----+\n",
      "+-----------+-----+\n",
      "\n",
      "+-----------+-----+\n",
      "|qa_lon_dest|count|\n",
      "+-----------+-----+\n",
      "+-----------+-----+\n",
      "\n",
      "+-----------+-----+\n",
      "|qa_alt_dest|count|\n",
      "+-----------+-----+\n",
      "|          A|10000|\n",
      "+-----------+-----+\n",
      "\n",
      "+----------+-----+\n",
      "|qa_tz_dest|count|\n",
      "+----------+-----+\n",
      "+----------+-----+\n",
      "\n",
      "+-----------+-----+\n",
      "|qa_dst_dest|count|\n",
      "+-----------+-----+\n",
      "+-----------+-----+\n",
      "\n",
      "+----------------+-----+\n",
      "|qa_tailnum_plane|count|\n",
      "+----------------+-----+\n",
      "|               F|   40|\n",
      "|               S| 9404|\n",
      "+----------------+-----+\n",
      "\n",
      "+-------+-----+\n",
      "|qa_year|count|\n",
      "+-------+-----+\n",
      "|      M|   94|\n",
      "|      I|    8|\n",
      "+-------+-----+\n",
      "\n",
      "+-------+-----+\n",
      "|qa_type|count|\n",
      "+-------+-----+\n",
      "+-------+-----+\n",
      "\n",
      "+---------------+-----+\n",
      "|qa_manufacturer|count|\n",
      "+---------------+-----+\n",
      "|              C| 1644|\n",
      "+---------------+-----+\n",
      "\n",
      "+--------+-----+\n",
      "|qa_model|count|\n",
      "+--------+-----+\n",
      "|       F|    9|\n",
      "+--------+-----+\n",
      "\n",
      "+----------+-----+\n",
      "|qa_engines|count|\n",
      "+----------+-----+\n",
      "|         A| 9448|\n",
      "+----------+-----+\n",
      "\n",
      "+--------+-----+\n",
      "|qa_seats|count|\n",
      "+--------+-----+\n",
      "|       A| 9448|\n",
      "+--------+-----+\n",
      "\n",
      "+--------+-----+\n",
      "|qa_speed|count|\n",
      "+--------+-----+\n",
      "|       M| 9443|\n",
      "|       A|    5|\n",
      "+--------+-----+\n",
      "\n",
      "+---------+-----+\n",
      "|qa_engine|count|\n",
      "+---------+-----+\n",
      "|        C|    7|\n",
      "+---------+-----+\n",
      "\n"
     ]
    }
   ],
   "source": [
    "df_qa = df.select(df.colRegex(\"`^qa_.*`\"))\n",
    "\n",
    "for c in df_qa.columns:\n",
    "    df_qa.filter(F.col(c).isNotNull()).groupBy(\n",
    "        F.substring(c, 1, 1).alias(c)\n",
    "    ).count().show()\n"
   ]
  },
  {
   "cell_type": "markdown",
   "metadata": {},
   "source": [
    "Pergunta 3"
   ]
  },
  {
   "cell_type": "code",
   "execution_count": 72,
   "metadata": {},
   "outputs": [
    {
     "name": "stdout",
     "output_type": "stream",
     "text": [
      "Variavel qa_speed com 9443.\n"
     ]
    }
   ],
   "source": [
    "maxi = list()\n",
    "col = list()\n",
    "for c in df_qa.columns:\n",
    "    temp = (\n",
    "        df_qa.filter(F.col(c) == \"M\")\n",
    "        .groupBy(F.substring(c, 1, 1).alias(c))\n",
    "        .count()\n",
    "    )\n",
    "    if len(temp.filter(F.col(\"count\") > 0).collect()):\n",
    "        if temp.filter(F.col(\"count\") > 0).collect()[0][1]:\n",
    "            maxi.append(temp.filter(F.col(\"count\") > 0).collect()[0][1])\n",
    "            col.append(c)\n",
    "maxi_np = np.array(maxi)\n",
    "\n",
    "print(f\"Variavel {col[np.argmax(maxi_np)]} com {np.max(maxi_np)}.\")\n"
   ]
  },
  {
   "cell_type": "markdown",
   "metadata": {},
   "source": [
    "Pergunta 4"
   ]
  },
  {
   "cell_type": "code",
   "execution_count": 75,
   "metadata": {},
   "outputs": [
    {
     "name": "stdout",
     "output_type": "stream",
     "text": [
      "+-----------------+-----+\n",
      "|qa_year_month_day|count|\n",
      "+-----------------+-----+\n",
      "+-----------------+-----+\n",
      "\n",
      "+--------------+-----+\n",
      "|qa_hour_minute|count|\n",
      "+--------------+-----+\n",
      "+--------------+-----+\n",
      "\n",
      "+---------------+-----+\n",
      "|qa_dep_arr_time|count|\n",
      "+---------------+-----+\n",
      "+---------------+-----+\n",
      "\n",
      "+----------------+-----+\n",
      "|qa_dep_arr_delay|count|\n",
      "+----------------+-----+\n",
      "+----------------+-----+\n",
      "\n",
      "+----------+-----+\n",
      "|qa_carrier|count|\n",
      "+----------+-----+\n",
      "+----------+-----+\n",
      "\n",
      "+----------+-----+\n",
      "|qa_tailnum|count|\n",
      "+----------+-----+\n",
      "|         F|  987|\n",
      "+----------+-----+\n",
      "\n",
      "+---------+-----+\n",
      "|qa_flight|count|\n",
      "+---------+-----+\n",
      "|        F| 6158|\n",
      "+---------+-----+\n",
      "\n",
      "+--------------+-----+\n",
      "|qa_origin_dest|count|\n",
      "+--------------+-----+\n",
      "+--------------+-----+\n",
      "\n",
      "+-----------+-----+\n",
      "|qa_air_time|count|\n",
      "+-----------+-----+\n",
      "+-----------+-----+\n",
      "\n",
      "+-----------+-----+\n",
      "|qa_distance|count|\n",
      "+-----------+-----+\n",
      "+-----------+-----+\n",
      "\n",
      "+-------------------+-----+\n",
      "|qa_distance_airtime|count|\n",
      "+-------------------+-----+\n",
      "+-------------------+-----+\n",
      "\n",
      "+------+-----+\n",
      "|qa_faa|count|\n",
      "+------+-----+\n",
      "+------+-----+\n",
      "\n",
      "+-------+-----+\n",
      "|qa_name|count|\n",
      "+-------+-----+\n",
      "+-------+-----+\n",
      "\n",
      "+------+-----+\n",
      "|qa_lat|count|\n",
      "+------+-----+\n",
      "+------+-----+\n",
      "\n",
      "+------+-----+\n",
      "|qa_lon|count|\n",
      "+------+-----+\n",
      "+------+-----+\n",
      "\n",
      "+------+-----+\n",
      "|qa_alt|count|\n",
      "+------+-----+\n",
      "+------+-----+\n",
      "\n",
      "+-----+-----+\n",
      "|qa_tz|count|\n",
      "+-----+-----+\n",
      "+-----+-----+\n",
      "\n",
      "+------+-----+\n",
      "|qa_dst|count|\n",
      "+------+-----+\n",
      "+------+-----+\n",
      "\n",
      "+-----------+-----+\n",
      "|qa_faa_dest|count|\n",
      "+-----------+-----+\n",
      "+-----------+-----+\n",
      "\n",
      "+------------+-----+\n",
      "|qa_name_dest|count|\n",
      "+------------+-----+\n",
      "+------------+-----+\n",
      "\n",
      "+-----------+-----+\n",
      "|qa_lat_dest|count|\n",
      "+-----------+-----+\n",
      "+-----------+-----+\n",
      "\n",
      "+-----------+-----+\n",
      "|qa_lon_dest|count|\n",
      "+-----------+-----+\n",
      "+-----------+-----+\n",
      "\n",
      "+-----------+-----+\n",
      "|qa_alt_dest|count|\n",
      "+-----------+-----+\n",
      "+-----------+-----+\n",
      "\n",
      "+----------+-----+\n",
      "|qa_tz_dest|count|\n",
      "+----------+-----+\n",
      "+----------+-----+\n",
      "\n",
      "+-----------+-----+\n",
      "|qa_dst_dest|count|\n",
      "+-----------+-----+\n",
      "+-----------+-----+\n",
      "\n",
      "+----------------+-----+\n",
      "|qa_tailnum_plane|count|\n",
      "+----------------+-----+\n",
      "|               F|   40|\n",
      "+----------------+-----+\n",
      "\n",
      "+-------+-----+\n",
      "|qa_year|count|\n",
      "+-------+-----+\n",
      "+-------+-----+\n",
      "\n",
      "+-------+-----+\n",
      "|qa_type|count|\n",
      "+-------+-----+\n",
      "+-------+-----+\n",
      "\n",
      "+---------------+-----+\n",
      "|qa_manufacturer|count|\n",
      "+---------------+-----+\n",
      "+---------------+-----+\n",
      "\n",
      "+--------+-----+\n",
      "|qa_model|count|\n",
      "+--------+-----+\n",
      "|       F|    9|\n",
      "+--------+-----+\n",
      "\n",
      "+----------+-----+\n",
      "|qa_engines|count|\n",
      "+----------+-----+\n",
      "+----------+-----+\n",
      "\n",
      "+--------+-----+\n",
      "|qa_seats|count|\n",
      "+--------+-----+\n",
      "+--------+-----+\n",
      "\n",
      "+--------+-----+\n",
      "|qa_speed|count|\n",
      "+--------+-----+\n",
      "+--------+-----+\n",
      "\n",
      "+---------+-----+\n",
      "|qa_engine|count|\n",
      "+---------+-----+\n",
      "+---------+-----+\n",
      "\n"
     ]
    }
   ],
   "source": [
    "for c in df_qa.columns:\n",
    "    df_qa.filter(F.col(c) == \"F\").groupBy(\n",
    "        F.substring(c, 1, 1).alias(c)\n",
    "    ).count().show()\n"
   ]
  },
  {
   "cell_type": "markdown",
   "metadata": {},
   "source": [
    "Pergunta 5"
   ]
  },
  {
   "cell_type": "code",
   "execution_count": 76,
   "metadata": {},
   "outputs": [
    {
     "name": "stdout",
     "output_type": "stream",
     "text": [
      "+-----------------+-----+\n",
      "|qa_year_month_day|count|\n",
      "+-----------------+-----+\n",
      "+-----------------+-----+\n",
      "\n",
      "+--------------+-----+\n",
      "|qa_hour_minute|count|\n",
      "+--------------+-----+\n",
      "+--------------+-----+\n",
      "\n",
      "+---------------+-----+\n",
      "|qa_dep_arr_time|count|\n",
      "+---------------+-----+\n",
      "+---------------+-----+\n",
      "\n",
      "+----------------+-----+\n",
      "|qa_dep_arr_delay|count|\n",
      "+----------------+-----+\n",
      "+----------------+-----+\n",
      "\n",
      "+----------+-----+\n",
      "|qa_carrier|count|\n",
      "+----------+-----+\n",
      "+----------+-----+\n",
      "\n",
      "+----------+-----+\n",
      "|qa_tailnum|count|\n",
      "+----------+-----+\n",
      "+----------+-----+\n",
      "\n",
      "+---------+-----+\n",
      "|qa_flight|count|\n",
      "+---------+-----+\n",
      "+---------+-----+\n",
      "\n",
      "+--------------+-----+\n",
      "|qa_origin_dest|count|\n",
      "+--------------+-----+\n",
      "+--------------+-----+\n",
      "\n",
      "+-----------+-----+\n",
      "|qa_air_time|count|\n",
      "+-----------+-----+\n",
      "+-----------+-----+\n",
      "\n",
      "+-----------+-----+\n",
      "|qa_distance|count|\n",
      "+-----------+-----+\n",
      "+-----------+-----+\n",
      "\n",
      "+-------------------+-----+\n",
      "|qa_distance_airtime|count|\n",
      "+-------------------+-----+\n",
      "+-------------------+-----+\n",
      "\n",
      "+------+-----+\n",
      "|qa_faa|count|\n",
      "+------+-----+\n",
      "+------+-----+\n",
      "\n",
      "+-------+-----+\n",
      "|qa_name|count|\n",
      "+-------+-----+\n",
      "+-------+-----+\n",
      "\n",
      "+------+-----+\n",
      "|qa_lat|count|\n",
      "+------+-----+\n",
      "+------+-----+\n",
      "\n",
      "+------+-----+\n",
      "|qa_lon|count|\n",
      "+------+-----+\n",
      "+------+-----+\n",
      "\n",
      "+------+-----+\n",
      "|qa_alt|count|\n",
      "+------+-----+\n",
      "+------+-----+\n",
      "\n",
      "+-----+-----+\n",
      "|qa_tz|count|\n",
      "+-----+-----+\n",
      "+-----+-----+\n",
      "\n",
      "+------+-----+\n",
      "|qa_dst|count|\n",
      "+------+-----+\n",
      "+------+-----+\n",
      "\n",
      "+-----------+-----+\n",
      "|qa_faa_dest|count|\n",
      "+-----------+-----+\n",
      "+-----------+-----+\n",
      "\n",
      "+------------+-----+\n",
      "|qa_name_dest|count|\n",
      "+------------+-----+\n",
      "+------------+-----+\n",
      "\n",
      "+-----------+-----+\n",
      "|qa_lat_dest|count|\n",
      "+-----------+-----+\n",
      "+-----------+-----+\n",
      "\n",
      "+-----------+-----+\n",
      "|qa_lon_dest|count|\n",
      "+-----------+-----+\n",
      "+-----------+-----+\n",
      "\n",
      "+-----------+-----+\n",
      "|qa_alt_dest|count|\n",
      "+-----------+-----+\n",
      "+-----------+-----+\n",
      "\n",
      "+----------+-----+\n",
      "|qa_tz_dest|count|\n",
      "+----------+-----+\n",
      "+----------+-----+\n",
      "\n",
      "+-----------+-----+\n",
      "|qa_dst_dest|count|\n",
      "+-----------+-----+\n",
      "+-----------+-----+\n",
      "\n",
      "+----------------+-----+\n",
      "|qa_tailnum_plane|count|\n",
      "+----------------+-----+\n",
      "+----------------+-----+\n",
      "\n",
      "+-------+-----+\n",
      "|qa_year|count|\n",
      "+-------+-----+\n",
      "|      I|    8|\n",
      "+-------+-----+\n",
      "\n",
      "+-------+-----+\n",
      "|qa_type|count|\n",
      "+-------+-----+\n",
      "+-------+-----+\n",
      "\n",
      "+---------------+-----+\n",
      "|qa_manufacturer|count|\n",
      "+---------------+-----+\n",
      "+---------------+-----+\n",
      "\n",
      "+--------+-----+\n",
      "|qa_model|count|\n",
      "+--------+-----+\n",
      "+--------+-----+\n",
      "\n",
      "+----------+-----+\n",
      "|qa_engines|count|\n",
      "+----------+-----+\n",
      "+----------+-----+\n",
      "\n",
      "+--------+-----+\n",
      "|qa_seats|count|\n",
      "+--------+-----+\n",
      "+--------+-----+\n",
      "\n",
      "+--------+-----+\n",
      "|qa_speed|count|\n",
      "+--------+-----+\n",
      "+--------+-----+\n",
      "\n",
      "+---------+-----+\n",
      "|qa_engine|count|\n",
      "+---------+-----+\n",
      "+---------+-----+\n",
      "\n"
     ]
    }
   ],
   "source": [
    "for c in df_qa.columns:\n",
    "    df_qa.filter(F.col(c) == \"I\").groupBy(\n",
    "        F.substring(c, 1, 1).alias(c)\n",
    "    ).count().show()\n"
   ]
  },
  {
   "cell_type": "markdown",
   "metadata": {},
   "source": [
    "Pergunta negocio"
   ]
  },
  {
   "cell_type": "markdown",
   "metadata": {},
   "source": [
    "Pergunta 1"
   ]
  },
  {
   "cell_type": "code",
   "execution_count": 99,
   "metadata": {},
   "outputs": [],
   "source": [
    "df = 0\n"
   ]
  },
  {
   "cell_type": "code",
   "execution_count": 105,
   "metadata": {},
   "outputs": [
    {
     "name": "stdout",
     "output_type": "stream",
     "text": [
      "Actual columns: ['faa', 'name', 'lat', 'lon', 'alt', 'tz', 'dst', 'region', 'type', 'military', 'administration']\n",
      "modified columns: ['faa_O', 'name_O', 'lat_O', 'lon_O', 'alt_O', 'tz_O', 'dst_O', 'region_O', 'type_O', 'military_O', 'administration_O']\n",
      "Actual columns: ['faa', 'name', 'lat', 'lon', 'alt', 'tz', 'dst', 'region', 'type', 'military', 'administration']\n",
      "modified columns: ['faa_D', 'name_D', 'lat_D', 'lon_D', 'alt_D', 'tz_D', 'dst_D', 'region_D', 'type_D', 'military_D', 'administration_D']\n",
      "Actual columns: ['tailnum_P', 'year', 'type', 'manufacturer', 'model', 'engines', 'seats', 'speed', 'engine', 'tailchar', 'age', 'engine_type']\n",
      "modified columns: ['tailnum_P', 'year', 'type', 'manufacturer', 'model', 'engines', 'seats', 'speed', 'engine', 'tailchar', 'age', 'engine_type']\n",
      "root\n",
      " |-- dep_time: string (nullable = true)\n",
      " |-- dep_delay: integer (nullable = true)\n",
      " |-- arr_time: string (nullable = true)\n",
      " |-- arr_delay: integer (nullable = true)\n",
      " |-- carrier: string (nullable = true)\n",
      " |-- tailnum: string (nullable = true)\n",
      " |-- flight: string (nullable = true)\n",
      " |-- origin: string (nullable = true)\n",
      " |-- dest: string (nullable = true)\n",
      " |-- air_time: integer (nullable = true)\n",
      " |-- distance: integer (nullable = true)\n",
      " |-- dep_datetime: timestamp (nullable = true)\n",
      " |-- air_time_projected: integer (nullable = true)\n",
      " |-- O1: string (nullable = true)\n",
      " |-- D1: string (nullable = true)\n",
      " |-- air_time_expected: integer (nullable = true)\n",
      " |-- sum: timestamp (nullable = true)\n",
      " |-- haul_duration: string (nullable = true)\n",
      " |-- dep_season: string (nullable = true)\n",
      " |-- dep_delay_category: string (nullable = true)\n",
      " |-- faa_O: string (nullable = true)\n",
      " |-- name_O: string (nullable = true)\n",
      " |-- lat_O: double (nullable = true)\n",
      " |-- lon_O: double (nullable = true)\n",
      " |-- alt_O: integer (nullable = true)\n",
      " |-- tz_O: double (nullable = true)\n",
      " |-- dst_O: string (nullable = true)\n",
      " |-- region_O: string (nullable = true)\n",
      " |-- type_O: string (nullable = true)\n",
      " |-- military_O: boolean (nullable = true)\n",
      " |-- administration_O: string (nullable = true)\n",
      " |-- faa_D: string (nullable = true)\n",
      " |-- name_D: string (nullable = true)\n",
      " |-- lat_D: double (nullable = true)\n",
      " |-- lon_D: double (nullable = true)\n",
      " |-- alt_D: integer (nullable = true)\n",
      " |-- tz_D: double (nullable = true)\n",
      " |-- dst_D: string (nullable = true)\n",
      " |-- region_D: string (nullable = true)\n",
      " |-- type_D: string (nullable = true)\n",
      " |-- military_D: boolean (nullable = true)\n",
      " |-- administration_D: string (nullable = true)\n",
      "\n"
     ]
    }
   ],
   "source": [
    "df_1 = df_airports_proc\n",
    "df_2 = df_airports_proc\n",
    "\n",
    "\n",
    "print(\"Actual columns:\", df_1.columns)\n",
    "\n",
    "\n",
    "df_1 = (\n",
    "    df_1.withColumnRenamed(\"faa\", \"faa_O\")\n",
    "    .withColumnRenamed(\"name\", \"name_O\")\n",
    "    .withColumnRenamed(\"lat\", \"lat_O\")\n",
    "    .withColumnRenamed(\"lon\", \"lon_O\")\n",
    "    .withColumnRenamed(\"alt\", \"alt_O\")\n",
    "    .withColumnRenamed(\"tz\", \"tz_O\")\n",
    "    .withColumnRenamed(\"dst\", \"dst_O\")\n",
    "    .withColumnRenamed(\"region\", \"region_O\")\n",
    "    .withColumnRenamed(\"type\", \"type_O\")\n",
    "    .withColumnRenamed(\"military\", \"military_O\")\n",
    "    .withColumnRenamed(\"administration\", \"administration_O\")\n",
    ")\n",
    "print(\"modified columns:\", df_1.columns)\n",
    "\n",
    "df_1.toPandas()\n",
    "\n",
    "\n",
    "print(\"Actual columns:\", df_2.columns)\n",
    "\n",
    "\n",
    "df_2 = (\n",
    "    df_2.withColumnRenamed(\"faa\", \"faa_D\")\n",
    "    .withColumnRenamed(\"name\", \"name_D\")\n",
    "    .withColumnRenamed(\"lat\", \"lat_D\")\n",
    "    .withColumnRenamed(\"lon\", \"lon_D\")\n",
    "    .withColumnRenamed(\"alt\", \"alt_D\")\n",
    "    .withColumnRenamed(\"tz\", \"tz_D\")\n",
    "    .withColumnRenamed(\"dst\", \"dst_D\")\n",
    "    .withColumnRenamed(\"region\", \"region_D\")\n",
    "    .withColumnRenamed(\"type\", \"type_D\")\n",
    "    .withColumnRenamed(\"military\", \"military_D\")\n",
    "    .withColumnRenamed(\"administration\", \"administration_D\")\n",
    ")\n",
    "print(\"modified columns:\", df_2.columns)\n",
    "\n",
    "df_2.toPandas()\n",
    "\n",
    "\n",
    "print(\"Actual columns:\", df_planes_proc.columns)\n",
    "\n",
    "\n",
    "df_planes_proc = df_planes_proc.withColumnRenamed(\"tailnum\", \"tailnum_P\")\n",
    "\n",
    "print(\"modified columns:\", df_planes_proc.columns)\n",
    "\n",
    "df_planes_proc.toPandas()\n",
    "\n",
    "\n",
    "df = df_flights_proc.join(df_1, (df_flights_proc.origin == df_1.faa_O), \"left\")\n",
    "\n",
    "\n",
    "df = df.join(df_2, (df.dest == df_2.faa_D), \"left\")\n",
    "\n",
    "df.printSchema()\n"
   ]
  },
  {
   "cell_type": "markdown",
   "metadata": {},
   "source": [
    "Pergunta 2"
   ]
  },
  {
   "cell_type": "code",
   "execution_count": 106,
   "metadata": {},
   "outputs": [
    {
     "data": {
      "text/html": [
       "<div>\n",
       "<style scoped>\n",
       "    .dataframe tbody tr th:only-of-type {\n",
       "        vertical-align: middle;\n",
       "    }\n",
       "\n",
       "    .dataframe tbody tr th {\n",
       "        vertical-align: top;\n",
       "    }\n",
       "\n",
       "    .dataframe thead th {\n",
       "        text-align: right;\n",
       "    }\n",
       "</style>\n",
       "<table border=\"1\" class=\"dataframe\">\n",
       "  <thead>\n",
       "    <tr style=\"text-align: right;\">\n",
       "      <th></th>\n",
       "      <th>region_D</th>\n",
       "      <th>aeroportos_por_regiao</th>\n",
       "    </tr>\n",
       "  </thead>\n",
       "  <tbody>\n",
       "    <tr>\n",
       "      <th>0</th>\n",
       "      <td>ALASKA</td>\n",
       "      <td>9</td>\n",
       "    </tr>\n",
       "    <tr>\n",
       "      <th>1</th>\n",
       "      <td>MAINLAND-EAST</td>\n",
       "      <td>24</td>\n",
       "    </tr>\n",
       "    <tr>\n",
       "      <th>2</th>\n",
       "      <td>MAINLAND-WEST</td>\n",
       "      <td>36</td>\n",
       "    </tr>\n",
       "  </tbody>\n",
       "</table>\n",
       "</div>"
      ],
      "text/plain": [
       "        region_D  aeroportos_por_regiao\n",
       "0         ALASKA                      9\n",
       "1  MAINLAND-EAST                     24\n",
       "2  MAINLAND-WEST                     36"
      ]
     },
     "execution_count": 106,
     "metadata": {},
     "output_type": "execute_result"
    }
   ],
   "source": [
    "df.groupBy(F.col(\"region_D\")).agg(\n",
    "    F.countDistinct(\"faa_D\").alias(\"aeroportos_por_regiao\")\n",
    ").toPandas()\n"
   ]
  },
  {
   "cell_type": "markdown",
   "metadata": {},
   "source": [
    "Pergunta 3"
   ]
  },
  {
   "cell_type": "code",
   "execution_count": 107,
   "metadata": {},
   "outputs": [
    {
     "data": {
      "text/html": [
       "<div>\n",
       "<style scoped>\n",
       "    .dataframe tbody tr th:only-of-type {\n",
       "        vertical-align: middle;\n",
       "    }\n",
       "\n",
       "    .dataframe tbody tr th {\n",
       "        vertical-align: top;\n",
       "    }\n",
       "\n",
       "    .dataframe thead th {\n",
       "        text-align: right;\n",
       "    }\n",
       "</style>\n",
       "<table border=\"1\" class=\"dataframe\">\n",
       "  <thead>\n",
       "    <tr style=\"text-align: right;\">\n",
       "      <th></th>\n",
       "      <th>maior_dif_altitude</th>\n",
       "    </tr>\n",
       "  </thead>\n",
       "  <tbody>\n",
       "    <tr>\n",
       "      <th>0</th>\n",
       "      <td>429</td>\n",
       "    </tr>\n",
       "  </tbody>\n",
       "</table>\n",
       "</div>"
      ],
      "text/plain": [
       "   maior_dif_altitude\n",
       "0                 429"
      ]
     },
     "execution_count": 107,
     "metadata": {},
     "output_type": "execute_result"
    }
   ],
   "source": [
    "df.agg(\n",
    "    F.max(F.col(\"alt_O\") - F.col(\"alt_D\")).alias(\"maior_dif_altitude\")\n",
    ").toPandas()\n"
   ]
  },
  {
   "cell_type": "markdown",
   "metadata": {},
   "source": [
    "Pergunta 4"
   ]
  },
  {
   "cell_type": "code",
   "execution_count": 110,
   "metadata": {},
   "outputs": [
    {
     "data": {
      "text/html": [
       "<div>\n",
       "<style scoped>\n",
       "    .dataframe tbody tr th:only-of-type {\n",
       "        vertical-align: middle;\n",
       "    }\n",
       "\n",
       "    .dataframe tbody tr th {\n",
       "        vertical-align: top;\n",
       "    }\n",
       "\n",
       "    .dataframe thead th {\n",
       "        text-align: right;\n",
       "    }\n",
       "</style>\n",
       "<table border=\"1\" class=\"dataframe\">\n",
       "  <thead>\n",
       "    <tr style=\"text-align: right;\">\n",
       "      <th></th>\n",
       "      <th>atraso_medio</th>\n",
       "    </tr>\n",
       "  </thead>\n",
       "  <tbody>\n",
       "    <tr>\n",
       "      <th>0</th>\n",
       "      <td>35</td>\n",
       "    </tr>\n",
       "  </tbody>\n",
       "</table>\n",
       "</div>"
      ],
      "text/plain": [
       "   atraso_medio\n",
       "0            35"
      ]
     },
     "execution_count": 110,
     "metadata": {},
     "output_type": "execute_result"
    }
   ],
   "source": [
    "df.select(\"dep_delay\", \"arr_delay\").where(\"dep_delay > 0 OR arr_delay > 0\").agg(\n",
    "    F.ceil(F.avg(F.col(\"dep_delay\") + F.col(\"arr_delay\"))).alias(\"atraso_medio\")\n",
    ").toPandas()\n"
   ]
  },
  {
   "cell_type": "markdown",
   "metadata": {},
   "source": [
    "Pergunta 5"
   ]
  },
  {
   "cell_type": "code",
   "execution_count": 111,
   "metadata": {},
   "outputs": [
    {
     "data": {
      "text/html": [
       "<div>\n",
       "<style scoped>\n",
       "    .dataframe tbody tr th:only-of-type {\n",
       "        vertical-align: middle;\n",
       "    }\n",
       "\n",
       "    .dataframe tbody tr th {\n",
       "        vertical-align: top;\n",
       "    }\n",
       "\n",
       "    .dataframe thead th {\n",
       "        text-align: right;\n",
       "    }\n",
       "</style>\n",
       "<table border=\"1\" class=\"dataframe\">\n",
       "  <thead>\n",
       "    <tr style=\"text-align: right;\">\n",
       "      <th></th>\n",
       "      <th>region_D</th>\n",
       "      <th>atraso_medio_regiao (min)</th>\n",
       "    </tr>\n",
       "  </thead>\n",
       "  <tbody>\n",
       "    <tr>\n",
       "      <th>0</th>\n",
       "      <td>ALASKA</td>\n",
       "      <td>28</td>\n",
       "    </tr>\n",
       "    <tr>\n",
       "      <th>1</th>\n",
       "      <td>MAINLAND-EAST</td>\n",
       "      <td>37</td>\n",
       "    </tr>\n",
       "    <tr>\n",
       "      <th>2</th>\n",
       "      <td>MAINLAND-WEST</td>\n",
       "      <td>36</td>\n",
       "    </tr>\n",
       "  </tbody>\n",
       "</table>\n",
       "</div>"
      ],
      "text/plain": [
       "        region_D  atraso_medio_regiao (min)\n",
       "0         ALASKA                         28\n",
       "1  MAINLAND-EAST                         37\n",
       "2  MAINLAND-WEST                         36"
      ]
     },
     "execution_count": 111,
     "metadata": {},
     "output_type": "execute_result"
    }
   ],
   "source": [
    "df.where(\"dep_delay > 0 OR arr_delay > 0\").groupBy(\"region_D\").agg(\n",
    "    F.ceil(F.avg(F.col(\"dep_delay\") + F.col(\"arr_delay\"))).alias(\n",
    "        \"atraso_medio_regiao (min)\"\n",
    "    )\n",
    ").toPandas()\n"
   ]
  },
  {
   "cell_type": "markdown",
   "metadata": {},
   "source": [
    "Pergunta 6"
   ]
  },
  {
   "cell_type": "code",
   "execution_count": 112,
   "metadata": {},
   "outputs": [
    {
     "data": {
      "text/html": [
       "<div>\n",
       "<style scoped>\n",
       "    .dataframe tbody tr th:only-of-type {\n",
       "        vertical-align: middle;\n",
       "    }\n",
       "\n",
       "    .dataframe tbody tr th {\n",
       "        vertical-align: top;\n",
       "    }\n",
       "\n",
       "    .dataframe thead th {\n",
       "        text-align: right;\n",
       "    }\n",
       "</style>\n",
       "<table border=\"1\" class=\"dataframe\">\n",
       "  <thead>\n",
       "    <tr style=\"text-align: right;\">\n",
       "      <th></th>\n",
       "      <th>ano</th>\n",
       "      <th>atraso_acumulado_ano (min)</th>\n",
       "    </tr>\n",
       "  </thead>\n",
       "  <tbody>\n",
       "    <tr>\n",
       "      <th>0</th>\n",
       "      <td>2014</td>\n",
       "      <td>166798</td>\n",
       "    </tr>\n",
       "  </tbody>\n",
       "</table>\n",
       "</div>"
      ],
      "text/plain": [
       "    ano  atraso_acumulado_ano (min)\n",
       "0  2014                      166798"
      ]
     },
     "execution_count": 112,
     "metadata": {},
     "output_type": "execute_result"
    }
   ],
   "source": [
    "df.where((F.col(\"dep_delay\") > 0) | (F.col(\"arr_delay\") > 0)).groupBy(\n",
    "    F.year(F.col(\"dep_datetime\")).alias(\"ano\")\n",
    ").agg(\n",
    "    F.sum(F.col(\"dep_delay\") + F.col(\"arr_delay\")).alias(\n",
    "        \"atraso_acumulado_ano (min)\"\n",
    "    )\n",
    ").toPandas()\n"
   ]
  },
  {
   "cell_type": "markdown",
   "metadata": {},
   "source": [
    "Pergunta 7"
   ]
  },
  {
   "cell_type": "code",
   "execution_count": 113,
   "metadata": {},
   "outputs": [
    {
     "data": {
      "text/html": [
       "<div>\n",
       "<style scoped>\n",
       "    .dataframe tbody tr th:only-of-type {\n",
       "        vertical-align: middle;\n",
       "    }\n",
       "\n",
       "    .dataframe tbody tr th {\n",
       "        vertical-align: top;\n",
       "    }\n",
       "\n",
       "    .dataframe thead th {\n",
       "        text-align: right;\n",
       "    }\n",
       "</style>\n",
       "<table border=\"1\" class=\"dataframe\">\n",
       "  <thead>\n",
       "    <tr style=\"text-align: right;\">\n",
       "      <th></th>\n",
       "      <th>ano</th>\n",
       "      <th>region_D</th>\n",
       "      <th>atraso_acumulado_ano (min)</th>\n",
       "    </tr>\n",
       "  </thead>\n",
       "  <tbody>\n",
       "    <tr>\n",
       "      <th>0</th>\n",
       "      <td>2014</td>\n",
       "      <td>ALASKA</td>\n",
       "      <td>14281</td>\n",
       "    </tr>\n",
       "    <tr>\n",
       "      <th>1</th>\n",
       "      <td>2014</td>\n",
       "      <td>MAINLAND-EAST</td>\n",
       "      <td>40558</td>\n",
       "    </tr>\n",
       "    <tr>\n",
       "      <th>2</th>\n",
       "      <td>2014</td>\n",
       "      <td>MAINLAND-WEST</td>\n",
       "      <td>111959</td>\n",
       "    </tr>\n",
       "  </tbody>\n",
       "</table>\n",
       "</div>"
      ],
      "text/plain": [
       "    ano       region_D  atraso_acumulado_ano (min)\n",
       "0  2014         ALASKA                       14281\n",
       "1  2014  MAINLAND-EAST                       40558\n",
       "2  2014  MAINLAND-WEST                      111959"
      ]
     },
     "execution_count": 113,
     "metadata": {},
     "output_type": "execute_result"
    }
   ],
   "source": [
    "df.select(\n",
    "    F.year(\"dep_datetime\").alias(\"ano\"), \"dep_delay\", \"arr_delay\", \"region_D\"\n",
    ").where(\"dep_delay > 0 OR arr_delay > 0\").groupBy(\"ano\", \"region_D\").agg(\n",
    "    F.sum(F.col(\"dep_delay\") + F.col(\"arr_delay\")).alias(\n",
    "        \"atraso_acumulado_ano (min)\"\n",
    "    )\n",
    ").toPandas()\n"
   ]
  },
  {
   "cell_type": "markdown",
   "metadata": {},
   "source": [
    "Pergunta 8"
   ]
  },
  {
   "cell_type": "code",
   "execution_count": 114,
   "metadata": {},
   "outputs": [
    {
     "data": {
      "text/html": [
       "<div>\n",
       "<style scoped>\n",
       "    .dataframe tbody tr th:only-of-type {\n",
       "        vertical-align: middle;\n",
       "    }\n",
       "\n",
       "    .dataframe tbody tr th {\n",
       "        vertical-align: top;\n",
       "    }\n",
       "\n",
       "    .dataframe thead th {\n",
       "        text-align: right;\n",
       "    }\n",
       "</style>\n",
       "<table border=\"1\" class=\"dataframe\">\n",
       "  <thead>\n",
       "    <tr style=\"text-align: right;\">\n",
       "      <th></th>\n",
       "      <th>tempo_voo_medio</th>\n",
       "    </tr>\n",
       "  </thead>\n",
       "  <tbody>\n",
       "    <tr>\n",
       "      <th>0</th>\n",
       "      <td>153</td>\n",
       "    </tr>\n",
       "  </tbody>\n",
       "</table>\n",
       "</div>"
      ],
      "text/plain": [
       "   tempo_voo_medio\n",
       "0              153"
      ]
     },
     "execution_count": 114,
     "metadata": {},
     "output_type": "execute_result"
    }
   ],
   "source": [
    "df.select(\"air_time\").agg(\n",
    "    F.ceil(F.avg(\"air_time\")).alias(\"tempo_voo_medio\")\n",
    ").toPandas()\n"
   ]
  },
  {
   "cell_type": "markdown",
   "metadata": {},
   "source": [
    "Pergunta 9"
   ]
  },
  {
   "cell_type": "code",
   "execution_count": 115,
   "metadata": {},
   "outputs": [
    {
     "data": {
      "text/html": [
       "<div>\n",
       "<style scoped>\n",
       "    .dataframe tbody tr th:only-of-type {\n",
       "        vertical-align: middle;\n",
       "    }\n",
       "\n",
       "    .dataframe tbody tr th {\n",
       "        vertical-align: top;\n",
       "    }\n",
       "\n",
       "    .dataframe thead th {\n",
       "        text-align: right;\n",
       "    }\n",
       "</style>\n",
       "<table border=\"1\" class=\"dataframe\">\n",
       "  <thead>\n",
       "    <tr style=\"text-align: right;\">\n",
       "      <th></th>\n",
       "      <th>region_D</th>\n",
       "      <th>tempo_voo_medio_regiao</th>\n",
       "    </tr>\n",
       "  </thead>\n",
       "  <tbody>\n",
       "    <tr>\n",
       "      <th>0</th>\n",
       "      <td>ALASKA</td>\n",
       "      <td>228</td>\n",
       "    </tr>\n",
       "    <tr>\n",
       "      <th>1</th>\n",
       "      <td>MAINLAND-EAST</td>\n",
       "      <td>238</td>\n",
       "    </tr>\n",
       "    <tr>\n",
       "      <th>2</th>\n",
       "      <td>MAINLAND-WEST</td>\n",
       "      <td>116</td>\n",
       "    </tr>\n",
       "  </tbody>\n",
       "</table>\n",
       "</div>"
      ],
      "text/plain": [
       "        region_D  tempo_voo_medio_regiao\n",
       "0         ALASKA                     228\n",
       "1  MAINLAND-EAST                     238\n",
       "2  MAINLAND-WEST                     116"
      ]
     },
     "execution_count": 115,
     "metadata": {},
     "output_type": "execute_result"
    }
   ],
   "source": [
    "df.select(\"air_time\", \"region_D\").groupBy(\"region_D\").agg(\n",
    "    F.ceil(F.avg(\"air_time\")).alias(\"tempo_voo_medio_regiao\")\n",
    ").toPandas()\n"
   ]
  },
  {
   "cell_type": "markdown",
   "metadata": {},
   "source": [
    "Pergunta 10"
   ]
  },
  {
   "cell_type": "code",
   "execution_count": 116,
   "metadata": {},
   "outputs": [
    {
     "data": {
      "text/html": [
       "<div>\n",
       "<style scoped>\n",
       "    .dataframe tbody tr th:only-of-type {\n",
       "        vertical-align: middle;\n",
       "    }\n",
       "\n",
       "    .dataframe tbody tr th {\n",
       "        vertical-align: top;\n",
       "    }\n",
       "\n",
       "    .dataframe thead th {\n",
       "        text-align: right;\n",
       "    }\n",
       "</style>\n",
       "<table border=\"1\" class=\"dataframe\">\n",
       "  <thead>\n",
       "    <tr style=\"text-align: right;\">\n",
       "      <th></th>\n",
       "      <th>origin</th>\n",
       "      <th>dest</th>\n",
       "      <th>tempo_voo_medio_rota</th>\n",
       "    </tr>\n",
       "  </thead>\n",
       "  <tbody>\n",
       "    <tr>\n",
       "      <th>0</th>\n",
       "      <td>SEA</td>\n",
       "      <td>RNO</td>\n",
       "      <td>75</td>\n",
       "    </tr>\n",
       "    <tr>\n",
       "      <th>1</th>\n",
       "      <td>SEA</td>\n",
       "      <td>DTW</td>\n",
       "      <td>220</td>\n",
       "    </tr>\n",
       "    <tr>\n",
       "      <th>2</th>\n",
       "      <td>SEA</td>\n",
       "      <td>CLE</td>\n",
       "      <td>234</td>\n",
       "    </tr>\n",
       "    <tr>\n",
       "      <th>3</th>\n",
       "      <td>SEA</td>\n",
       "      <td>LAX</td>\n",
       "      <td>127</td>\n",
       "    </tr>\n",
       "    <tr>\n",
       "      <th>4</th>\n",
       "      <td>PDX</td>\n",
       "      <td>SEA</td>\n",
       "      <td>35</td>\n",
       "    </tr>\n",
       "    <tr>\n",
       "      <th>...</th>\n",
       "      <td>...</td>\n",
       "      <td>...</td>\n",
       "      <td>...</td>\n",
       "    </tr>\n",
       "    <tr>\n",
       "      <th>108</th>\n",
       "      <td>SEA</td>\n",
       "      <td>JFK</td>\n",
       "      <td>282</td>\n",
       "    </tr>\n",
       "    <tr>\n",
       "      <th>109</th>\n",
       "      <td>SEA</td>\n",
       "      <td>FAI</td>\n",
       "      <td>199</td>\n",
       "    </tr>\n",
       "    <tr>\n",
       "      <th>110</th>\n",
       "      <td>PDX</td>\n",
       "      <td>HOU</td>\n",
       "      <td>227</td>\n",
       "    </tr>\n",
       "    <tr>\n",
       "      <th>111</th>\n",
       "      <td>PDX</td>\n",
       "      <td>BUR</td>\n",
       "      <td>109</td>\n",
       "    </tr>\n",
       "    <tr>\n",
       "      <th>112</th>\n",
       "      <td>SEA</td>\n",
       "      <td>MCO</td>\n",
       "      <td>299</td>\n",
       "    </tr>\n",
       "  </tbody>\n",
       "</table>\n",
       "<p>113 rows × 3 columns</p>\n",
       "</div>"
      ],
      "text/plain": [
       "    origin dest  tempo_voo_medio_rota\n",
       "0      SEA  RNO                    75\n",
       "1      SEA  DTW                   220\n",
       "2      SEA  CLE                   234\n",
       "3      SEA  LAX                   127\n",
       "4      PDX  SEA                    35\n",
       "..     ...  ...                   ...\n",
       "108    SEA  JFK                   282\n",
       "109    SEA  FAI                   199\n",
       "110    PDX  HOU                   227\n",
       "111    PDX  BUR                   109\n",
       "112    SEA  MCO                   299\n",
       "\n",
       "[113 rows x 3 columns]"
      ]
     },
     "execution_count": 116,
     "metadata": {},
     "output_type": "execute_result"
    }
   ],
   "source": [
    "df.select(\"air_time\", \"origin\", \"dest\").groupBy(\"origin\", \"dest\").agg(\n",
    "    F.ceil(F.avg(\"air_time\")).alias(\"tempo_voo_medio_rota\")\n",
    ").toPandas()\n"
   ]
  },
  {
   "cell_type": "markdown",
   "metadata": {},
   "source": [
    "Pergunta 11"
   ]
  },
  {
   "cell_type": "code",
   "execution_count": 117,
   "metadata": {},
   "outputs": [
    {
     "data": {
      "text/html": [
       "<div>\n",
       "<style scoped>\n",
       "    .dataframe tbody tr th:only-of-type {\n",
       "        vertical-align: middle;\n",
       "    }\n",
       "\n",
       "    .dataframe tbody tr th {\n",
       "        vertical-align: top;\n",
       "    }\n",
       "\n",
       "    .dataframe thead th {\n",
       "        text-align: right;\n",
       "    }\n",
       "</style>\n",
       "<table border=\"1\" class=\"dataframe\">\n",
       "  <thead>\n",
       "    <tr style=\"text-align: right;\">\n",
       "      <th></th>\n",
       "      <th>ano</th>\n",
       "      <th>tempo_voo_acumulado_ano</th>\n",
       "    </tr>\n",
       "  </thead>\n",
       "  <tbody>\n",
       "    <tr>\n",
       "      <th>0</th>\n",
       "      <td>2013</td>\n",
       "      <td>30</td>\n",
       "    </tr>\n",
       "    <tr>\n",
       "      <th>1</th>\n",
       "      <td>2014</td>\n",
       "      <td>1528595</td>\n",
       "    </tr>\n",
       "  </tbody>\n",
       "</table>\n",
       "</div>"
      ],
      "text/plain": [
       "    ano  tempo_voo_acumulado_ano\n",
       "0  2013                       30\n",
       "1  2014                  1528595"
      ]
     },
     "execution_count": 117,
     "metadata": {},
     "output_type": "execute_result"
    }
   ],
   "source": [
    "df.select(F.year(\"dep_datetime\").alias(\"ano\"), \"air_time\").groupBy(\"ano\").agg(\n",
    "    F.sum(\"air_time\").alias(\"tempo_voo_acumulado_ano\")\n",
    ").toPandas()\n"
   ]
  },
  {
   "cell_type": "markdown",
   "metadata": {},
   "source": [
    "Pergunta 12"
   ]
  },
  {
   "cell_type": "code",
   "execution_count": 118,
   "metadata": {},
   "outputs": [
    {
     "data": {
      "text/html": [
       "<div>\n",
       "<style scoped>\n",
       "    .dataframe tbody tr th:only-of-type {\n",
       "        vertical-align: middle;\n",
       "    }\n",
       "\n",
       "    .dataframe tbody tr th {\n",
       "        vertical-align: top;\n",
       "    }\n",
       "\n",
       "    .dataframe thead th {\n",
       "        text-align: right;\n",
       "    }\n",
       "</style>\n",
       "<table border=\"1\" class=\"dataframe\">\n",
       "  <thead>\n",
       "    <tr style=\"text-align: right;\">\n",
       "      <th></th>\n",
       "      <th>ano</th>\n",
       "      <th>region_D</th>\n",
       "      <th>tempo_voo_acumulado_regiao</th>\n",
       "    </tr>\n",
       "  </thead>\n",
       "  <tbody>\n",
       "    <tr>\n",
       "      <th>0</th>\n",
       "      <td>2014</td>\n",
       "      <td>ALASKA</td>\n",
       "      <td>230602</td>\n",
       "    </tr>\n",
       "    <tr>\n",
       "      <th>1</th>\n",
       "      <td>2014</td>\n",
       "      <td>MAINLAND-EAST</td>\n",
       "      <td>508344</td>\n",
       "    </tr>\n",
       "    <tr>\n",
       "      <th>2</th>\n",
       "      <td>2014</td>\n",
       "      <td>MAINLAND-WEST</td>\n",
       "      <td>789649</td>\n",
       "    </tr>\n",
       "    <tr>\n",
       "      <th>3</th>\n",
       "      <td>2013</td>\n",
       "      <td>MAINLAND-WEST</td>\n",
       "      <td>30</td>\n",
       "    </tr>\n",
       "  </tbody>\n",
       "</table>\n",
       "</div>"
      ],
      "text/plain": [
       "    ano       region_D  tempo_voo_acumulado_regiao\n",
       "0  2014         ALASKA                      230602\n",
       "1  2014  MAINLAND-EAST                      508344\n",
       "2  2014  MAINLAND-WEST                      789649\n",
       "3  2013  MAINLAND-WEST                          30"
      ]
     },
     "execution_count": 118,
     "metadata": {},
     "output_type": "execute_result"
    }
   ],
   "source": [
    "df.select(F.year(\"dep_datetime\").alias(\"ano\"), \"air_time\", \"region_D\").groupBy(\n",
    "    \"ano\", \"region_D\"\n",
    ").agg(F.sum(F.col(\"air_time\")).alias(\"tempo_voo_acumulado_regiao\")).toPandas()\n"
   ]
  },
  {
   "cell_type": "markdown",
   "metadata": {},
   "source": [
    "Pergunta 13"
   ]
  },
  {
   "cell_type": "code",
   "execution_count": 120,
   "metadata": {},
   "outputs": [
    {
     "data": {
      "text/html": [
       "<div>\n",
       "<style scoped>\n",
       "    .dataframe tbody tr th:only-of-type {\n",
       "        vertical-align: middle;\n",
       "    }\n",
       "\n",
       "    .dataframe tbody tr th {\n",
       "        vertical-align: top;\n",
       "    }\n",
       "\n",
       "    .dataframe thead th {\n",
       "        text-align: right;\n",
       "    }\n",
       "</style>\n",
       "<table border=\"1\" class=\"dataframe\">\n",
       "  <thead>\n",
       "    <tr style=\"text-align: right;\">\n",
       "      <th></th>\n",
       "      <th>distancia_voo_medio</th>\n",
       "    </tr>\n",
       "  </thead>\n",
       "  <tbody>\n",
       "    <tr>\n",
       "      <th>0</th>\n",
       "      <td>1209</td>\n",
       "    </tr>\n",
       "  </tbody>\n",
       "</table>\n",
       "</div>"
      ],
      "text/plain": [
       "   distancia_voo_medio\n",
       "0                 1209"
      ]
     },
     "execution_count": 120,
     "metadata": {},
     "output_type": "execute_result"
    }
   ],
   "source": [
    "df.select(\"distance\").agg(\n",
    "    F.ceil(F.avg(F.col(\"distance\"))).alias(\"distancia_voo_medio\")\n",
    ").toPandas()\n"
   ]
  },
  {
   "cell_type": "markdown",
   "metadata": {},
   "source": [
    "Pergunta 14"
   ]
  },
  {
   "cell_type": "code",
   "execution_count": 121,
   "metadata": {},
   "outputs": [
    {
     "data": {
      "text/html": [
       "<div>\n",
       "<style scoped>\n",
       "    .dataframe tbody tr th:only-of-type {\n",
       "        vertical-align: middle;\n",
       "    }\n",
       "\n",
       "    .dataframe tbody tr th {\n",
       "        vertical-align: top;\n",
       "    }\n",
       "\n",
       "    .dataframe thead th {\n",
       "        text-align: right;\n",
       "    }\n",
       "</style>\n",
       "<table border=\"1\" class=\"dataframe\">\n",
       "  <thead>\n",
       "    <tr style=\"text-align: right;\">\n",
       "      <th></th>\n",
       "      <th>region_D</th>\n",
       "      <th>distancia_voo_medio_regiao</th>\n",
       "    </tr>\n",
       "  </thead>\n",
       "  <tbody>\n",
       "    <tr>\n",
       "      <th>0</th>\n",
       "      <td>ALASKA</td>\n",
       "      <td>1742</td>\n",
       "    </tr>\n",
       "    <tr>\n",
       "      <th>1</th>\n",
       "      <td>MAINLAND-EAST</td>\n",
       "      <td>2043</td>\n",
       "    </tr>\n",
       "    <tr>\n",
       "      <th>2</th>\n",
       "      <td>MAINLAND-WEST</td>\n",
       "      <td>868</td>\n",
       "    </tr>\n",
       "  </tbody>\n",
       "</table>\n",
       "</div>"
      ],
      "text/plain": [
       "        region_D  distancia_voo_medio_regiao\n",
       "0         ALASKA                        1742\n",
       "1  MAINLAND-EAST                        2043\n",
       "2  MAINLAND-WEST                         868"
      ]
     },
     "execution_count": 121,
     "metadata": {},
     "output_type": "execute_result"
    }
   ],
   "source": [
    "df.select(\"distance\", \"region_D\").groupBy(\"region_D\").agg(\n",
    "    F.ceil(F.avg(F.col(\"distance\"))).alias(\"distancia_voo_medio_regiao\")\n",
    ").toPandas()\n"
   ]
  },
  {
   "cell_type": "markdown",
   "metadata": {},
   "source": [
    "Pergunta 15"
   ]
  },
  {
   "cell_type": "code",
   "execution_count": 122,
   "metadata": {},
   "outputs": [
    {
     "data": {
      "text/html": [
       "<div>\n",
       "<style scoped>\n",
       "    .dataframe tbody tr th:only-of-type {\n",
       "        vertical-align: middle;\n",
       "    }\n",
       "\n",
       "    .dataframe tbody tr th {\n",
       "        vertical-align: top;\n",
       "    }\n",
       "\n",
       "    .dataframe thead th {\n",
       "        text-align: right;\n",
       "    }\n",
       "</style>\n",
       "<table border=\"1\" class=\"dataframe\">\n",
       "  <thead>\n",
       "    <tr style=\"text-align: right;\">\n",
       "      <th></th>\n",
       "      <th>origin</th>\n",
       "      <th>dest</th>\n",
       "      <th>distancia_voo_medio_rota</th>\n",
       "    </tr>\n",
       "  </thead>\n",
       "  <tbody>\n",
       "    <tr>\n",
       "      <th>0</th>\n",
       "      <td>SEA</td>\n",
       "      <td>RNO</td>\n",
       "      <td>564</td>\n",
       "    </tr>\n",
       "    <tr>\n",
       "      <th>1</th>\n",
       "      <td>SEA</td>\n",
       "      <td>DTW</td>\n",
       "      <td>1927</td>\n",
       "    </tr>\n",
       "    <tr>\n",
       "      <th>2</th>\n",
       "      <td>SEA</td>\n",
       "      <td>CLE</td>\n",
       "      <td>2021</td>\n",
       "    </tr>\n",
       "    <tr>\n",
       "      <th>3</th>\n",
       "      <td>SEA</td>\n",
       "      <td>LAX</td>\n",
       "      <td>954</td>\n",
       "    </tr>\n",
       "    <tr>\n",
       "      <th>4</th>\n",
       "      <td>PDX</td>\n",
       "      <td>SEA</td>\n",
       "      <td>129</td>\n",
       "    </tr>\n",
       "    <tr>\n",
       "      <th>...</th>\n",
       "      <td>...</td>\n",
       "      <td>...</td>\n",
       "      <td>...</td>\n",
       "    </tr>\n",
       "    <tr>\n",
       "      <th>108</th>\n",
       "      <td>SEA</td>\n",
       "      <td>JFK</td>\n",
       "      <td>2422</td>\n",
       "    </tr>\n",
       "    <tr>\n",
       "      <th>109</th>\n",
       "      <td>SEA</td>\n",
       "      <td>FAI</td>\n",
       "      <td>1533</td>\n",
       "    </tr>\n",
       "    <tr>\n",
       "      <th>110</th>\n",
       "      <td>PDX</td>\n",
       "      <td>HOU</td>\n",
       "      <td>1843</td>\n",
       "    </tr>\n",
       "    <tr>\n",
       "      <th>111</th>\n",
       "      <td>PDX</td>\n",
       "      <td>BUR</td>\n",
       "      <td>817</td>\n",
       "    </tr>\n",
       "    <tr>\n",
       "      <th>112</th>\n",
       "      <td>SEA</td>\n",
       "      <td>MCO</td>\n",
       "      <td>2554</td>\n",
       "    </tr>\n",
       "  </tbody>\n",
       "</table>\n",
       "<p>113 rows × 3 columns</p>\n",
       "</div>"
      ],
      "text/plain": [
       "    origin dest  distancia_voo_medio_rota\n",
       "0      SEA  RNO                       564\n",
       "1      SEA  DTW                      1927\n",
       "2      SEA  CLE                      2021\n",
       "3      SEA  LAX                       954\n",
       "4      PDX  SEA                       129\n",
       "..     ...  ...                       ...\n",
       "108    SEA  JFK                      2422\n",
       "109    SEA  FAI                      1533\n",
       "110    PDX  HOU                      1843\n",
       "111    PDX  BUR                       817\n",
       "112    SEA  MCO                      2554\n",
       "\n",
       "[113 rows x 3 columns]"
      ]
     },
     "execution_count": 122,
     "metadata": {},
     "output_type": "execute_result"
    }
   ],
   "source": [
    "df.select(\"distance\", \"origin\", \"dest\").groupBy(\"origin\", \"dest\").agg(\n",
    "    F.ceil(F.avg(\"distance\")).alias(\"distancia_voo_medio_rota\")\n",
    ").toPandas()\n"
   ]
  },
  {
   "cell_type": "markdown",
   "metadata": {},
   "source": [
    "Pergunta 16"
   ]
  },
  {
   "cell_type": "code",
   "execution_count": 123,
   "metadata": {},
   "outputs": [
    {
     "data": {
      "text/html": [
       "<div>\n",
       "<style scoped>\n",
       "    .dataframe tbody tr th:only-of-type {\n",
       "        vertical-align: middle;\n",
       "    }\n",
       "\n",
       "    .dataframe tbody tr th {\n",
       "        vertical-align: top;\n",
       "    }\n",
       "\n",
       "    .dataframe thead th {\n",
       "        text-align: right;\n",
       "    }\n",
       "</style>\n",
       "<table border=\"1\" class=\"dataframe\">\n",
       "  <thead>\n",
       "    <tr style=\"text-align: right;\">\n",
       "      <th></th>\n",
       "      <th>ano</th>\n",
       "      <th>distancia_voo_acumulado_ano</th>\n",
       "    </tr>\n",
       "  </thead>\n",
       "  <tbody>\n",
       "    <tr>\n",
       "      <th>0</th>\n",
       "      <td>2013</td>\n",
       "      <td>106</td>\n",
       "    </tr>\n",
       "    <tr>\n",
       "      <th>1</th>\n",
       "      <td>2014</td>\n",
       "      <td>12081410</td>\n",
       "    </tr>\n",
       "  </tbody>\n",
       "</table>\n",
       "</div>"
      ],
      "text/plain": [
       "    ano  distancia_voo_acumulado_ano\n",
       "0  2013                          106\n",
       "1  2014                     12081410"
      ]
     },
     "execution_count": 123,
     "metadata": {},
     "output_type": "execute_result"
    }
   ],
   "source": [
    "df.select(F.year(\"dep_datetime\").alias(\"ano\"), \"distance\").groupBy(\"ano\").agg(\n",
    "    F.ceil(F.sum(\"distance\")).alias(\"distancia_voo_acumulado_ano\")\n",
    ").toPandas()\n"
   ]
  },
  {
   "cell_type": "markdown",
   "metadata": {},
   "source": [
    "Pergunta 17"
   ]
  },
  {
   "cell_type": "code",
   "execution_count": 124,
   "metadata": {},
   "outputs": [
    {
     "data": {
      "text/html": [
       "<div>\n",
       "<style scoped>\n",
       "    .dataframe tbody tr th:only-of-type {\n",
       "        vertical-align: middle;\n",
       "    }\n",
       "\n",
       "    .dataframe tbody tr th {\n",
       "        vertical-align: top;\n",
       "    }\n",
       "\n",
       "    .dataframe thead th {\n",
       "        text-align: right;\n",
       "    }\n",
       "</style>\n",
       "<table border=\"1\" class=\"dataframe\">\n",
       "  <thead>\n",
       "    <tr style=\"text-align: right;\">\n",
       "      <th></th>\n",
       "      <th>ano</th>\n",
       "      <th>region_D</th>\n",
       "      <th>distancia_acumulado_regiao</th>\n",
       "    </tr>\n",
       "  </thead>\n",
       "  <tbody>\n",
       "    <tr>\n",
       "      <th>0</th>\n",
       "      <td>2014</td>\n",
       "      <td>ALASKA</td>\n",
       "      <td>1762553</td>\n",
       "    </tr>\n",
       "    <tr>\n",
       "      <th>1</th>\n",
       "      <td>2014</td>\n",
       "      <td>MAINLAND-EAST</td>\n",
       "      <td>4378902</td>\n",
       "    </tr>\n",
       "    <tr>\n",
       "      <th>2</th>\n",
       "      <td>2014</td>\n",
       "      <td>MAINLAND-WEST</td>\n",
       "      <td>5939955</td>\n",
       "    </tr>\n",
       "    <tr>\n",
       "      <th>3</th>\n",
       "      <td>2013</td>\n",
       "      <td>MAINLAND-WEST</td>\n",
       "      <td>106</td>\n",
       "    </tr>\n",
       "  </tbody>\n",
       "</table>\n",
       "</div>"
      ],
      "text/plain": [
       "    ano       region_D  distancia_acumulado_regiao\n",
       "0  2014         ALASKA                     1762553\n",
       "1  2014  MAINLAND-EAST                     4378902\n",
       "2  2014  MAINLAND-WEST                     5939955\n",
       "3  2013  MAINLAND-WEST                         106"
      ]
     },
     "execution_count": 124,
     "metadata": {},
     "output_type": "execute_result"
    }
   ],
   "source": [
    "df.select(F.year(\"dep_datetime\").alias(\"ano\"), \"distance\", \"region_D\").groupBy(\n",
    "    \"ano\", \"region_D\"\n",
    ").agg(\n",
    "    F.ceil(F.sum(F.col(\"distance\"))).alias(\"distancia_acumulado_regiao\")\n",
    ").toPandas()\n"
   ]
  },
  {
   "cell_type": "markdown",
   "metadata": {},
   "source": [
    "Pergunta 18"
   ]
  },
  {
   "cell_type": "code",
   "execution_count": 128,
   "metadata": {},
   "outputs": [],
   "source": [
    "# df.select(\"seats\", \"origin\",\"dest\").groupBy(\"origin\", \"dest\").agg(F.round(F.avg(\"seats\"), 3).alias(\"passageiros_medio_rota\")).toPandas()\n"
   ]
  },
  {
   "cell_type": "markdown",
   "metadata": {},
   "source": [
    "Pergunta 19"
   ]
  },
  {
   "cell_type": "code",
   "execution_count": 131,
   "metadata": {},
   "outputs": [],
   "source": [
    "# df.select(F.year(\"dep_datetime\").alias(\"ano\"),\"seats\").groupBy(\"ano\").agg(F.sum(\"seats\").alias(\"passageiros_acumulado_ano\")).toPandas()\n"
   ]
  },
  {
   "cell_type": "markdown",
   "metadata": {},
   "source": [
    "Pergunta 20"
   ]
  },
  {
   "cell_type": "code",
   "execution_count": 133,
   "metadata": {},
   "outputs": [
    {
     "data": {
      "text/html": [
       "<div>\n",
       "<style scoped>\n",
       "    .dataframe tbody tr th:only-of-type {\n",
       "        vertical-align: middle;\n",
       "    }\n",
       "\n",
       "    .dataframe tbody tr th {\n",
       "        vertical-align: top;\n",
       "    }\n",
       "\n",
       "    .dataframe thead th {\n",
       "        text-align: right;\n",
       "    }\n",
       "</style>\n",
       "<table border=\"1\" class=\"dataframe\">\n",
       "  <thead>\n",
       "    <tr style=\"text-align: right;\">\n",
       "      <th></th>\n",
       "      <th>dest</th>\n",
       "      <th>count</th>\n",
       "    </tr>\n",
       "  </thead>\n",
       "  <tbody>\n",
       "    <tr>\n",
       "      <th>0</th>\n",
       "      <td>SFO</td>\n",
       "      <td>787</td>\n",
       "    </tr>\n",
       "  </tbody>\n",
       "</table>\n",
       "</div>"
      ],
      "text/plain": [
       "  dest  count\n",
       "0  SFO    787"
      ]
     },
     "execution_count": 133,
     "metadata": {},
     "output_type": "execute_result"
    }
   ],
   "source": [
    "df.select(\"dest\").groupBy(\"dest\").count().orderBy(\n",
    "    \"count\", ascending=False\n",
    ").limit(1).toPandas()\n"
   ]
  },
  {
   "cell_type": "markdown",
   "metadata": {},
   "source": [
    "Pergunta 21"
   ]
  },
  {
   "cell_type": "code",
   "execution_count": 136,
   "metadata": {},
   "outputs": [],
   "source": [
    "# df.select(\"dest\", \"seats\").groupBy(\"dest\").agg(F.sum(\"seats\").alias(\"destino_mais_passageiros\")).orderBy(\"destino_mais_passageiros\", ascending= False).limit(1).toPandas()\n"
   ]
  },
  {
   "cell_type": "markdown",
   "metadata": {},
   "source": [
    "Pergunta 22"
   ]
  },
  {
   "cell_type": "code",
   "execution_count": 137,
   "metadata": {},
   "outputs": [
    {
     "data": {
      "text/html": [
       "<div>\n",
       "<style scoped>\n",
       "    .dataframe tbody tr th:only-of-type {\n",
       "        vertical-align: middle;\n",
       "    }\n",
       "\n",
       "    .dataframe tbody tr th {\n",
       "        vertical-align: top;\n",
       "    }\n",
       "\n",
       "    .dataframe thead th {\n",
       "        text-align: right;\n",
       "    }\n",
       "</style>\n",
       "<table border=\"1\" class=\"dataframe\">\n",
       "  <thead>\n",
       "    <tr style=\"text-align: right;\">\n",
       "      <th></th>\n",
       "      <th>origin</th>\n",
       "      <th>dest</th>\n",
       "      <th>distance</th>\n",
       "    </tr>\n",
       "  </thead>\n",
       "  <tbody>\n",
       "    <tr>\n",
       "      <th>0</th>\n",
       "      <td>PDX</td>\n",
       "      <td>LIH</td>\n",
       "      <td>2631</td>\n",
       "    </tr>\n",
       "  </tbody>\n",
       "</table>\n",
       "</div>"
      ],
      "text/plain": [
       "  origin dest  distance\n",
       "0    PDX  LIH      2631"
      ]
     },
     "execution_count": 137,
     "metadata": {},
     "output_type": "execute_result"
    }
   ],
   "source": [
    "df.select(\"origin\", \"dest\", \"distance\").where(F.col(\"origin\") == \"PDX\").orderBy(\n",
    "    \"distance\", ascending=False\n",
    ").limit(1).toPandas()\n"
   ]
  },
  {
   "cell_type": "markdown",
   "metadata": {},
   "source": [
    "Pergunta 23"
   ]
  },
  {
   "cell_type": "code",
   "execution_count": 141,
   "metadata": {},
   "outputs": [
    {
     "data": {
      "text/html": [
       "<div>\n",
       "<style scoped>\n",
       "    .dataframe tbody tr th:only-of-type {\n",
       "        vertical-align: middle;\n",
       "    }\n",
       "\n",
       "    .dataframe tbody tr th {\n",
       "        vertical-align: top;\n",
       "    }\n",
       "\n",
       "    .dataframe thead th {\n",
       "        text-align: right;\n",
       "    }\n",
       "</style>\n",
       "<table border=\"1\" class=\"dataframe\">\n",
       "  <thead>\n",
       "    <tr style=\"text-align: right;\">\n",
       "      <th></th>\n",
       "      <th>dest</th>\n",
       "      <th>avg(mes)</th>\n",
       "      <th>avg(count)</th>\n",
       "    </tr>\n",
       "  </thead>\n",
       "  <tbody>\n",
       "    <tr>\n",
       "      <th>0</th>\n",
       "      <td>SFO</td>\n",
       "      <td>6.5</td>\n",
       "      <td>65.583333</td>\n",
       "    </tr>\n",
       "  </tbody>\n",
       "</table>\n",
       "</div>"
      ],
      "text/plain": [
       "  dest  avg(mes)  avg(count)\n",
       "0  SFO       6.5   65.583333"
      ]
     },
     "execution_count": 141,
     "metadata": {},
     "output_type": "execute_result"
    }
   ],
   "source": [
    "df.groupBy(\"dest\", F.month(\"dep_datetime\").alias(\"mes\")).count().orderBy(\n",
    "    \"count\", ascending=False\n",
    ").groupBy(\"dest\").mean().orderBy(\"avg(count)\", ascending=False).limit(\n",
    "    1\n",
    ").toPandas()\n"
   ]
  },
  {
   "cell_type": "markdown",
   "metadata": {},
   "source": [
    "Pergunta 24"
   ]
  },
  {
   "cell_type": "code",
   "execution_count": 143,
   "metadata": {},
   "outputs": [],
   "source": [
    "# df.groupBy(\"model\").count().orderBy('count', ascending= False).limit(1).toPandas()\n"
   ]
  },
  {
   "cell_type": "markdown",
   "metadata": {},
   "source": [
    "Pergunta 25"
   ]
  },
  {
   "cell_type": "code",
   "execution_count": 145,
   "metadata": {},
   "outputs": [],
   "source": [
    "# df.where(F.col(\"model\").isNotNull()).groupBy(\"model\", \"dest\").count().orderBy('count', ascending= False).limit(1).toPandas()\n"
   ]
  },
  {
   "cell_type": "markdown",
   "metadata": {},
   "source": [
    "Pergunta 26"
   ]
  },
  {
   "cell_type": "code",
   "execution_count": 147,
   "metadata": {},
   "outputs": [],
   "source": [
    "# df.groupBy(\"haul_duration\").agg(F.avg(\"engines\").alias(\"media_motores_categoria\")).toPandas()\n"
   ]
  },
  {
   "cell_type": "markdown",
   "metadata": {},
   "source": [
    "Pergunta 27"
   ]
  },
  {
   "cell_type": "code",
   "execution_count": 148,
   "metadata": {},
   "outputs": [
    {
     "data": {
      "text/html": [
       "<div>\n",
       "<style scoped>\n",
       "    .dataframe tbody tr th:only-of-type {\n",
       "        vertical-align: middle;\n",
       "    }\n",
       "\n",
       "    .dataframe tbody tr th {\n",
       "        vertical-align: top;\n",
       "    }\n",
       "\n",
       "    .dataframe thead th {\n",
       "        text-align: right;\n",
       "    }\n",
       "</style>\n",
       "<table border=\"1\" class=\"dataframe\">\n",
       "  <thead>\n",
       "    <tr style=\"text-align: right;\">\n",
       "      <th></th>\n",
       "      <th>dep_season</th>\n",
       "      <th>count</th>\n",
       "    </tr>\n",
       "  </thead>\n",
       "  <tbody>\n",
       "    <tr>\n",
       "      <th>0</th>\n",
       "      <td>SUMMER</td>\n",
       "      <td>2918</td>\n",
       "    </tr>\n",
       "  </tbody>\n",
       "</table>\n",
       "</div>"
      ],
      "text/plain": [
       "  dep_season  count\n",
       "0     SUMMER   2918"
      ]
     },
     "execution_count": 148,
     "metadata": {},
     "output_type": "execute_result"
    }
   ],
   "source": [
    "df.groupBy(\"dep_season\").count().orderBy(\"count\", ascending=False).limit(\n",
    "    1\n",
    ").toPandas()\n"
   ]
  },
  {
   "cell_type": "markdown",
   "metadata": {},
   "source": [
    "Pergunta 28"
   ]
  },
  {
   "cell_type": "code",
   "execution_count": 149,
   "metadata": {},
   "outputs": [
    {
     "data": {
      "text/html": [
       "<div>\n",
       "<style scoped>\n",
       "    .dataframe tbody tr th:only-of-type {\n",
       "        vertical-align: middle;\n",
       "    }\n",
       "\n",
       "    .dataframe tbody tr th {\n",
       "        vertical-align: top;\n",
       "    }\n",
       "\n",
       "    .dataframe thead th {\n",
       "        text-align: right;\n",
       "    }\n",
       "</style>\n",
       "<table border=\"1\" class=\"dataframe\">\n",
       "  <thead>\n",
       "    <tr style=\"text-align: right;\">\n",
       "      <th></th>\n",
       "      <th>dep_season</th>\n",
       "      <th>dest</th>\n",
       "      <th>count</th>\n",
       "    </tr>\n",
       "  </thead>\n",
       "  <tbody>\n",
       "    <tr>\n",
       "      <th>0</th>\n",
       "      <td>SUMMER</td>\n",
       "      <td>SFO</td>\n",
       "      <td>217</td>\n",
       "    </tr>\n",
       "  </tbody>\n",
       "</table>\n",
       "</div>"
      ],
      "text/plain": [
       "  dep_season dest  count\n",
       "0     SUMMER  SFO    217"
      ]
     },
     "execution_count": 149,
     "metadata": {},
     "output_type": "execute_result"
    }
   ],
   "source": [
    "df.groupBy(\"dep_season\", \"dest\").count().orderBy(\n",
    "    \"count\", ascending=False\n",
    ").limit(1).toPandas()\n"
   ]
  },
  {
   "cell_type": "markdown",
   "metadata": {},
   "source": [
    "Pergunta 29"
   ]
  },
  {
   "cell_type": "code",
   "execution_count": 150,
   "metadata": {},
   "outputs": [
    {
     "data": {
      "text/html": [
       "<div>\n",
       "<style scoped>\n",
       "    .dataframe tbody tr th:only-of-type {\n",
       "        vertical-align: middle;\n",
       "    }\n",
       "\n",
       "    .dataframe tbody tr th {\n",
       "        vertical-align: top;\n",
       "    }\n",
       "\n",
       "    .dataframe thead th {\n",
       "        text-align: right;\n",
       "    }\n",
       "</style>\n",
       "<table border=\"1\" class=\"dataframe\">\n",
       "  <thead>\n",
       "    <tr style=\"text-align: right;\">\n",
       "      <th></th>\n",
       "      <th>dep_delay_category</th>\n",
       "      <th>count</th>\n",
       "    </tr>\n",
       "  </thead>\n",
       "  <tbody>\n",
       "    <tr>\n",
       "      <th>0</th>\n",
       "      <td>MINOR</td>\n",
       "      <td>3065</td>\n",
       "    </tr>\n",
       "  </tbody>\n",
       "</table>\n",
       "</div>"
      ],
      "text/plain": [
       "  dep_delay_category  count\n",
       "0              MINOR   3065"
      ]
     },
     "execution_count": 150,
     "metadata": {},
     "output_type": "execute_result"
    }
   ],
   "source": [
    "df.where(\n",
    "    (F.col(\"dep_delay_category\") != \"ANTECIPATED\")\n",
    "    & (F.col(\"dep_delay_category\") != \"INTIME\")\n",
    ").groupBy(\"dep_delay_category\").count().orderBy(\"count\", ascending=False).limit(\n",
    "    1\n",
    ").toPandas()\n"
   ]
  },
  {
   "cell_type": "markdown",
   "metadata": {},
   "source": [
    "Pergunta 30"
   ]
  },
  {
   "cell_type": "code",
   "execution_count": 151,
   "metadata": {},
   "outputs": [
    {
     "data": {
      "text/html": [
       "<div>\n",
       "<style scoped>\n",
       "    .dataframe tbody tr th:only-of-type {\n",
       "        vertical-align: middle;\n",
       "    }\n",
       "\n",
       "    .dataframe tbody tr th {\n",
       "        vertical-align: top;\n",
       "    }\n",
       "\n",
       "    .dataframe thead th {\n",
       "        text-align: right;\n",
       "    }\n",
       "</style>\n",
       "<table border=\"1\" class=\"dataframe\">\n",
       "  <thead>\n",
       "    <tr style=\"text-align: right;\">\n",
       "      <th></th>\n",
       "      <th>dep_delay_category</th>\n",
       "      <th>origin</th>\n",
       "      <th>dest</th>\n",
       "      <th>count</th>\n",
       "    </tr>\n",
       "  </thead>\n",
       "  <tbody>\n",
       "    <tr>\n",
       "      <th>0</th>\n",
       "      <td>MINOR</td>\n",
       "      <td>SEA</td>\n",
       "      <td>SFO</td>\n",
       "      <td>159</td>\n",
       "    </tr>\n",
       "  </tbody>\n",
       "</table>\n",
       "</div>"
      ],
      "text/plain": [
       "  dep_delay_category origin dest  count\n",
       "0              MINOR    SEA  SFO    159"
      ]
     },
     "execution_count": 151,
     "metadata": {},
     "output_type": "execute_result"
    }
   ],
   "source": [
    "df.where(\n",
    "    (F.col(\"dep_delay_category\") != \"ANTECIPATED\")\n",
    "    & (F.col(\"dep_delay_category\") != \"INTIME\")\n",
    ").groupBy(\"dep_delay_category\", \"origin\", \"dest\").count().orderBy(\n",
    "    \"count\", ascending=False\n",
    ").limit(\n",
    "    1\n",
    ").toPandas()\n"
   ]
  }
 ],
 "metadata": {
  "kernelspec": {
   "display_name": "Python 3.10.7 64-bit",
   "language": "python",
   "name": "python3"
  },
  "language_info": {
   "codemirror_mode": {
    "name": "ipython",
    "version": 3
   },
   "file_extension": ".py",
   "mimetype": "text/x-python",
   "name": "python",
   "nbconvert_exporter": "python",
   "pygments_lexer": "ipython3",
   "version": "3.10.7"
  },
  "orig_nbformat": 4,
  "vscode": {
   "interpreter": {
    "hash": "26de051ba29f2982a8de78e945f0abaf191376122a1563185a90213a26c5da77"
   }
  }
 },
 "nbformat": 4,
 "nbformat_minor": 2
}
