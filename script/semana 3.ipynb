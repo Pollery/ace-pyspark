{
 "cells": [
  {
   "cell_type": "code",
   "execution_count": 1,
   "metadata": {},
   "outputs": [],
   "source": [
    "from pyspark import SparkContext, SparkConf\n",
    "from pyspark.sql import SparkSession\n",
    "from pyspark.sql import functions as F\n",
    "from pyspark.sql.types import (\n",
    "    StructType,\n",
    "    StructField,\n",
    "    StringType,\n",
    "    IntegerType,\n",
    "    LongType,\n",
    "    BooleanType,\n",
    "    DoubleType,\n",
    ")\n",
    "from pyspark.sql.functions import when, lit, isnan, length, col\n",
    "\n",
    "import re\n"
   ]
  },
  {
   "cell_type": "code",
   "execution_count": 2,
   "metadata": {},
   "outputs": [],
   "source": [
    "# Creating a spark context class\n",
    "sc = SparkContext()\n",
    "\n",
    "# Creating a spark session\n",
    "spark = (\n",
    "    SparkSession.builder.appName(\"Semana3\")\n",
    "    .config(\"spark.some.config.option\", \"some-value\")\n",
    "    .getOrCreate()\n",
    ")\n"
   ]
  },
  {
   "cell_type": "markdown",
   "metadata": {},
   "source": [
    "# Airport Dataset"
   ]
  },
  {
   "cell_type": "code",
   "execution_count": 3,
   "metadata": {},
   "outputs": [],
   "source": [
    "schema = StructType(\n",
    "    [\n",
    "        StructField(\"faa\", StringType(), True),\n",
    "        StructField(\"name\", StringType(), True),\n",
    "        StructField(\"lat\", DoubleType(), True),\n",
    "        StructField(\"lon\", DoubleType(), True),\n",
    "        StructField(\"alt\", IntegerType(), True),\n",
    "        StructField(\"tz\", DoubleType(), True),\n",
    "        StructField(\"dst\", StringType(), True),\n",
    "    ]\n",
    ")\n"
   ]
  },
  {
   "cell_type": "code",
   "execution_count": 4,
   "metadata": {},
   "outputs": [
    {
     "name": "stdout",
     "output_type": "stream",
     "text": [
      "+---+-----------------------------+----------+-----------+----+----+---+\n",
      "|faa|name                         |lat       |lon        |alt |tz  |dst|\n",
      "+---+-----------------------------+----------+-----------+----+----+---+\n",
      "|04G|Lansdowne Airport            |41.1304722|-80.6195833|1044|-5.0|A  |\n",
      "|06A|Moton Field Municipal Airport|32.4605722|-85.6800278|264 |-5.0|A  |\n",
      "|06C|Schaumburg Regional          |41.9893408|-88.1012428|801 |-6.0|A  |\n",
      "|06N|Randall Airport              |41.431912 |-74.3915611|523 |-5.0|A  |\n",
      "|09J|Jekyll Island Airport        |31.0744722|-81.4277778|11  |-4.0|A  |\n",
      "+---+-----------------------------+----------+-----------+----+----+---+\n",
      "only showing top 5 rows\n",
      "\n"
     ]
    }
   ],
   "source": [
    "df = spark.read.csv(\"../Datasets/airports.csv\", header=True, schema=schema)\n",
    "# ,inferSchema=True\n",
    "df.show(5, False)\n"
   ]
  },
  {
   "cell_type": "markdown",
   "metadata": {},
   "source": [
    "Pergunta 1"
   ]
  },
  {
   "cell_type": "code",
   "execution_count": 5,
   "metadata": {},
   "outputs": [
    {
     "name": "stdout",
     "output_type": "stream",
     "text": [
      "+---+-------------+---------+-----------+---+----+---+\n",
      "|faa|         name|      lat|        lon|alt|  tz|dst|\n",
      "+---+-------------+---------+-----------+---+----+---+\n",
      "|IPL|  Imperial Co|32.834219|-115.578744|-54|-8.0|  A|\n",
      "|NJK|El Centro Naf|32.829222|-115.671667|-42|-8.0|  A|\n",
      "+---+-------------+---------+-----------+---+----+---+\n",
      "\n",
      "+---+----+---+---+---+---+---+\n",
      "|faa|name|lat|lon|alt| tz|dst|\n",
      "+---+----+---+---+---+---+---+\n",
      "+---+----+---+---+---+---+---+\n",
      "\n"
     ]
    }
   ],
   "source": [
    "df.filter(F.col(\"alt\") < 0).show()\n",
    "df = df.withColumn(\"alt\", when(df.alt < 0, 0).otherwise(df.alt))\n",
    "df.filter(F.col(\"alt\") < 0).show()\n"
   ]
  },
  {
   "cell_type": "markdown",
   "metadata": {},
   "source": [
    "Pergunta 2"
   ]
  },
  {
   "cell_type": "code",
   "execution_count": 6,
   "metadata": {},
   "outputs": [
    {
     "name": "stdout",
     "output_type": "stream",
     "text": [
      "+---+-----+\n",
      "|dst|count|\n",
      "+---+-----+\n",
      "|  U|    8|\n",
      "|  A| 1380|\n",
      "|  N|    9|\n",
      "+---+-----+\n",
      "\n"
     ]
    }
   ],
   "source": [
    "df = df.withColumn(\"dst\", F.when(df.tz.between(-7, -5), \"A\").otherwise(df.dst))\n",
    "df.select(\"dst\").groupBy(\"dst\").count().show()\n"
   ]
  },
  {
   "cell_type": "markdown",
   "metadata": {},
   "source": [
    "Pergunta 3"
   ]
  },
  {
   "cell_type": "code",
   "execution_count": 7,
   "metadata": {},
   "outputs": [
    {
     "name": "stdout",
     "output_type": "stream",
     "text": [
      "+---+-----+\n",
      "|dst|count|\n",
      "+---+-----+\n",
      "|  A| 1388|\n",
      "|  N|    9|\n",
      "+---+-----+\n",
      "\n"
     ]
    }
   ],
   "source": [
    "df = df.withColumn(\"dst\", (F.when(df.dst == \"U\", \"A\").otherwise(df.dst)))\n",
    "df.select(\"dst\").groupBy(\"dst\").count().show()\n"
   ]
  },
  {
   "cell_type": "markdown",
   "metadata": {},
   "source": [
    "Pergunta 4"
   ]
  },
  {
   "cell_type": "code",
   "execution_count": 8,
   "metadata": {},
   "outputs": [
    {
     "name": "stdout",
     "output_type": "stream",
     "text": [
      "+-------------+-----+\n",
      "|       region|count|\n",
      "+-------------+-----+\n",
      "|       ALASKA|  261|\n",
      "|     OFFSHORE|    4|\n",
      "|MAINLAND-EAST|  696|\n",
      "|MAINLAND-WEST|  436|\n",
      "+-------------+-----+\n",
      "\n"
     ]
    }
   ],
   "source": [
    "df = df.withColumn(\n",
    "    \"region\",\n",
    "    F.when(df.lon < -124, \"ALASKA\")\n",
    "    .when((df.lon > -50) | (df.lat < 24), \"OFFSHORE\")\n",
    "    .when(\n",
    "        (df.lon <= -95) & (df.lon.between(-124, -50)),\n",
    "        \"MAINLAND-WEST\",\n",
    "    )\n",
    "    .when(\n",
    "        (df.lon > -95) & (df.lon.between(-124, -50)),\n",
    "        \"MAINLAND-EAST\",\n",
    "    )\n",
    "    .otherwise(float(\"NaN\")),\n",
    ")\n",
    "df.select(\"region\").groupBy(\"region\").count().show()\n"
   ]
  },
  {
   "cell_type": "markdown",
   "metadata": {},
   "source": [
    "\n",
    "Pergunta 5"
   ]
  },
  {
   "cell_type": "code",
   "execution_count": 9,
   "metadata": {},
   "outputs": [
    {
     "name": "stdout",
     "output_type": "stream",
     "text": [
      "+----+-----+\n",
      "|type|count|\n",
      "+----+-----+\n",
      "|  AD|    1|\n",
      "| NaN|  663|\n",
      "|  AS|   19|\n",
      "|  FL|   78|\n",
      "|  AK|   12|\n",
      "|  AP|  624|\n",
      "+----+-----+\n",
      "\n"
     ]
    }
   ],
   "source": [
    "AP = [\"Airport\", \"Tradeport\", \"Heliport\", \"Airpor\", \"Arpt\"]\n",
    "AD = [\"Aerodrome\"]\n",
    "AK = [\"Airpark\", \"Aero Park\"]\n",
    "AS = [\"Station\", \"Air Station\"]\n",
    "FL = [\"Field\", \"Fld\"]\n",
    "\n",
    "df = df.withColumn(\n",
    "    \"type\",\n",
    "    (\n",
    "        F.when(\n",
    "            (df.name.rlike(r\"|\".join(map(lambda x: f\".*({x}).*\", AP)))), \"AP\"\n",
    "        )\n",
    "        .when((df.name.rlike(r\"|\".join(map(lambda x: f\".*({x}).*\", AD)))), \"AD\")\n",
    "        .when((df.name.rlike(r\"|\".join(map(lambda x: f\".*({x}).*\", AK)))), \"AK\")\n",
    "        .when((df.name.rlike(r\"|\".join(map(lambda x: f\".*({x}).*\", AS)))), \"AS\")\n",
    "        .when((df.name.rlike(r\"|\".join(map(lambda x: f\".*({x}).*\", FL)))), \"FL\")\n",
    "        .otherwise(\"NaN\")\n",
    "    ),\n",
    ")\n",
    "df.select(\"type\").groupBy(\"type\").count().show()\n"
   ]
  },
  {
   "cell_type": "markdown",
   "metadata": {},
   "source": [
    "Pergunta 6"
   ]
  },
  {
   "cell_type": "code",
   "execution_count": 10,
   "metadata": {},
   "outputs": [
    {
     "name": "stdout",
     "output_type": "stream",
     "text": [
      "+--------+-----+\n",
      "|military|count|\n",
      "+--------+-----+\n",
      "|    true|  161|\n",
      "|   false| 1236|\n",
      "+--------+-----+\n",
      "\n"
     ]
    }
   ],
   "source": [
    "MILITARY = [\n",
    "    \"Base\",\n",
    "    \"Aaf\",\n",
    "    \"Afs\",\n",
    "    \"Ahp\",\n",
    "    \"Afb\",\n",
    "    \"LRRS\",\n",
    "    \"Lrrs\",\n",
    "    \"Arb\",\n",
    "    \"Naf\",\n",
    "    \"NAS\",\n",
    "    \"Nas\",\n",
    "    \"Jrb\",\n",
    "    \"Ns\",\n",
    "    \"As\",\n",
    "    \"Cgas\",\n",
    "    \"Angb\",\n",
    "]\n",
    "\n",
    "SUBSTRING = r\"|\".join(map(lambda x: f\"^{x} | {x} | {x}$\", MILITARY))\n",
    "\n",
    "df = df.withColumn(\n",
    "    \"military\", F.when(df.name.rlike(SUBSTRING), True).otherwise(False)\n",
    ")\n",
    "df.select(\"military\").groupBy(\"military\").count().show()\n"
   ]
  },
  {
   "cell_type": "markdown",
   "metadata": {},
   "source": [
    "Pergunta 7"
   ]
  },
  {
   "cell_type": "code",
   "execution_count": 11,
   "metadata": {},
   "outputs": [
    {
     "name": "stdout",
     "output_type": "stream",
     "text": [
      "+--------------+-----+\n",
      "|administration|count|\n",
      "+--------------+-----+\n",
      "|             M|  180|\n",
      "|             N|    5|\n",
      "|             R|  287|\n",
      "|           NaN|  761|\n",
      "|             I|  164|\n",
      "+--------------+-----+\n",
      "\n"
     ]
    }
   ],
   "source": [
    "I = [\"International\", \"Intl\", \"Intercontinental\"]\n",
    "N = [\"National\", \"Natl\"]\n",
    "R = [\"Regional\", \"Reigonal\", \"Rgnl\", \"County\", \"Metro\", \"Metropolitan\"]\n",
    "M = [\"Municipal\", \"Muni\", \"City\"]\n",
    "\n",
    "\n",
    "df = df.withColumn(\n",
    "    \"administration\",\n",
    "    (\n",
    "        F.when(\n",
    "            (df.name.rlike(r\"|\".join(map(lambda x: f\".*({x}).*\", I)))),\n",
    "            \"I\",\n",
    "        )\n",
    "        .when(\n",
    "            (df.name.rlike(r\"|\".join(map(lambda x: f\".*({x}).*\", N)))),\n",
    "            \"N\",\n",
    "        )\n",
    "        .when(\n",
    "            (df.name.rlike(r\"|\".join(map(lambda x: f\".*({x}).*\", R)))),\n",
    "            \"R\",\n",
    "        )\n",
    "        .when(\n",
    "            (df.name.rlike(r\"|\".join(map(lambda x: f\".*({x}).*\", M)))),\n",
    "            \"M\",\n",
    "        )\n",
    "        .otherwise(\"NaN\")\n",
    "    ),\n",
    ")\n",
    "df.select(\"administration\").groupBy(\"administration\").count().show()\n"
   ]
  },
  {
   "cell_type": "markdown",
   "metadata": {},
   "source": [
    "Salvando"
   ]
  },
  {
   "cell_type": "code",
   "execution_count": 12,
   "metadata": {},
   "outputs": [],
   "source": [
    "\"\"\"\n",
    "df.repartition(1).write.format(\"parquet\").mode(\"overwrite\").option(\n",
    "    \"header\", \"true\"\n",
    ").save(\"../Data/airports_proc.parquet\")\n",
    "\"\"\"\n",
    "df = df.toPandas()\n",
    "df.to_parquet(\"../Data/airports_proc.parquet\")\n"
   ]
  },
  {
   "cell_type": "markdown",
   "metadata": {},
   "source": [
    "# Planes Dataset"
   ]
  },
  {
   "cell_type": "code",
   "execution_count": 13,
   "metadata": {},
   "outputs": [],
   "source": [
    "schema = StructType(\n",
    "    [\n",
    "        StructField(\"tailnum\", StringType(), True),\n",
    "        StructField(\"year\", IntegerType(), True),\n",
    "        StructField(\"type\", StringType(), True),\n",
    "        StructField(\"manufacturer\", StringType(), True),\n",
    "        StructField(\"model\", StringType(), True),\n",
    "        StructField(\"engines\", IntegerType(), True),\n",
    "        StructField(\"seats\", IntegerType(), True),\n",
    "        StructField(\"speed\", IntegerType(), True),\n",
    "        StructField(\"engine\", StringType(), True),\n",
    "    ]\n",
    ")\n"
   ]
  },
  {
   "cell_type": "code",
   "execution_count": 14,
   "metadata": {},
   "outputs": [
    {
     "name": "stdout",
     "output_type": "stream",
     "text": [
      "+-------+----+-----------------------+----------------+--------+-------+-----+-----+---------+\n",
      "|tailnum|year|type                   |manufacturer    |model   |engines|seats|speed|engine   |\n",
      "+-------+----+-----------------------+----------------+--------+-------+-----+-----+---------+\n",
      "|N102UW |1998|Fixed wing multi engine|AIRBUS INDUSTRIE|A320-214|2      |182  |null |Turbo-fan|\n",
      "|N103US |1999|Fixed wing multi engine|AIRBUS INDUSTRIE|A320-214|2      |182  |null |Turbo-fan|\n",
      "|N104UW |1999|Fixed wing multi engine|AIRBUS INDUSTRIE|A320-214|2      |182  |null |Turbo-fan|\n",
      "|N105UW |1999|Fixed wing multi engine|AIRBUS INDUSTRIE|A320-214|2      |182  |null |Turbo-fan|\n",
      "|N107US |1999|Fixed wing multi engine|AIRBUS INDUSTRIE|A320-214|2      |182  |null |Turbo-fan|\n",
      "+-------+----+-----------------------+----------------+--------+-------+-----+-----+---------+\n",
      "only showing top 5 rows\n",
      "\n"
     ]
    }
   ],
   "source": [
    "df = spark.read.csv(\"../Datasets/planes.csv\", header=True, schema=schema)\n",
    "# ,inferSchema=True\n",
    "df.show(5, False)\n"
   ]
  },
  {
   "cell_type": "markdown",
   "metadata": {},
   "source": [
    "Pergunta 1"
   ]
  },
  {
   "cell_type": "code",
   "execution_count": 15,
   "metadata": {},
   "outputs": [
    {
     "name": "stdout",
     "output_type": "stream",
     "text": [
      "+--------+-------+-----+\n",
      "|tailchar|tailnum|count|\n",
      "+--------+-------+-----+\n",
      "|      US| N170US|    1|\n",
      "|      UW| N191UW|    1|\n",
      "|      NW| N337NW|    1|\n",
      "+--------+-------+-----+\n",
      "only showing top 3 rows\n",
      "\n"
     ]
    }
   ],
   "source": [
    "df = df.withColumn(\"tailchar\", F.regexp_replace(df.tailnum, \"[0-9]|^N\", \"\"))\n",
    "df.select(\"tailchar\", \"tailnum\").groupBy(\"tailchar\", \"tailnum\").count().show(3)\n"
   ]
  },
  {
   "cell_type": "markdown",
   "metadata": {},
   "source": [
    "\n",
    "Pergunta 2"
   ]
  },
  {
   "cell_type": "code",
   "execution_count": 16,
   "metadata": {},
   "outputs": [
    {
     "name": "stdout",
     "output_type": "stream",
     "text": [
      "+----+-----+\n",
      "|year|count|\n",
      "+----+-----+\n",
      "|1996|   73|\n",
      "+----+-----+\n",
      "\n"
     ]
    }
   ],
   "source": [
    "df = df.withColumn(\"year\", when(df.year == 0, 1996).otherwise(df.year))\n",
    "df.select(\"year\").filter(df.year == 1996).groupBy(\"year\").count().show(3)\n"
   ]
  },
  {
   "cell_type": "markdown",
   "metadata": {},
   "source": [
    "Pergunta 3\n",
    "Não entendi estudar resposta."
   ]
  },
  {
   "cell_type": "code",
   "execution_count": 17,
   "metadata": {},
   "outputs": [
    {
     "name": "stdout",
     "output_type": "stream",
     "text": [
      "+-------+----+--------------------+----------------+--------+-------+-----+-----+---------+--------+\n",
      "|tailnum|year|                type|    manufacturer|   model|engines|seats|speed|   engine|tailchar|\n",
      "+-------+----+--------------------+----------------+--------+-------+-----+-----+---------+--------+\n",
      "| N102UW|1998|Fixed wing multi ...|AIRBUS INDUSTRIE|A320-214|      2|  182| null|Turbo-fan|      UW|\n",
      "| N103US|1999|Fixed wing multi ...|AIRBUS INDUSTRIE|A320-214|      2|  182| null|Turbo-fan|      US|\n",
      "| N104UW|1999|Fixed wing multi ...|AIRBUS INDUSTRIE|A320-214|      2|  182| null|Turbo-fan|      UW|\n",
      "+-------+----+--------------------+----------------+--------+-------+-----+-----+---------+--------+\n",
      "only showing top 3 rows\n",
      "\n"
     ]
    }
   ],
   "source": [
    "# Criando tabela ordenada por Manufacturer e Model\n",
    "df_ordered = (\n",
    "    df.groupBy(\"manufacturer\", \"model\")\n",
    "    .min(\"year\")\n",
    "    .orderBy(\"manufacturer\", \"model\")\n",
    ")\n",
    "\n",
    "# Renomeando colunas\n",
    "df_ordered = (\n",
    "    df_ordered.withColumnRenamed(\"manufacturer\", \"manufacturer1\")\n",
    "    .withColumnRenamed(\"model\", \"model1\")\n",
    "    .withColumnRenamed(\"min(year)\", \"year1\")\n",
    ")\n",
    "\n",
    "# Criando tabela ordenada somente por manufacturer\n",
    "df_ordered2 = df.groupBy(\"manufacturer\").min(\"year\").orderBy(\"manufacturer\")\n",
    "\n",
    "# Renomeando colunas\n",
    "df_ordered2 = df_ordered2.withColumnRenamed(\n",
    "    \"manufacturer\", \"manufacturer2\"\n",
    ").withColumnRenamed(\"min(year)\", \"year2\")\n",
    "\n",
    "# Fazendo left join da tabela df com a tabela df_ordered\n",
    "df_final = df.join(\n",
    "    df_ordered,\n",
    "    (df.manufacturer == df_ordered.manufacturer1)\n",
    "    & (df.model == df_ordered.model1),\n",
    "    \"left\",\n",
    ")\n",
    "\n",
    "# Fazendo left join da tabela df_final com a df_ordered2\n",
    "df_final = df_final.join(\n",
    "    df_ordered2, df_final.manufacturer == df_ordered2.manufacturer2, \"left\"\n",
    ")\n",
    "\n",
    "# Modificando a coluna year para inputar os anos\n",
    "df_final = df_final.withColumn(\n",
    "    \"year\",\n",
    "    F.when((F.col(\"year\").isNull()) & (F.col(\"year1\").isNull()), F.col(\"year2\"))\n",
    "    .when(F.col(\"year\").isNull(), F.col(\"year1\"))\n",
    "    .otherwise(F.col(\"year\")),\n",
    ")\n",
    "\n",
    "# Dropando as colunas criadas pelo join\n",
    "df_final = df_final.drop(\n",
    "    \"manufacturer1\", \"manufacturer2\", \"model1\", \"year1\", \"year2\"\n",
    ")\n",
    "\n",
    "\n",
    "df_final.show(3)\n",
    "\n",
    "df = df_final\n"
   ]
  },
  {
   "cell_type": "markdown",
   "metadata": {},
   "source": [
    "Pergunta 4"
   ]
  },
  {
   "cell_type": "code",
   "execution_count": 18,
   "metadata": {},
   "outputs": [
    {
     "name": "stdout",
     "output_type": "stream",
     "text": [
      "+---+----+-----+\n",
      "|age|year|count|\n",
      "+---+----+-----+\n",
      "| 17|2005|  112|\n",
      "| 13|2009|   77|\n",
      "| 11|2011|   64|\n",
      "+---+----+-----+\n",
      "only showing top 3 rows\n",
      "\n"
     ]
    }
   ],
   "source": [
    "df = df.withColumn(\"age\", F.expr(\"2022 - year\"))\n",
    "df.select(\"age\", \"year\").groupBy(\"age\", \"year\").count().show(3)\n"
   ]
  },
  {
   "cell_type": "markdown",
   "metadata": {},
   "source": [
    "\n",
    "Pergunta 5"
   ]
  },
  {
   "cell_type": "code",
   "execution_count": 19,
   "metadata": {},
   "outputs": [
    {
     "name": "stdout",
     "output_type": "stream",
     "text": [
      "+----------+-----+\n",
      "|      type|count|\n",
      "+----------+-----+\n",
      "|SINGLE_ENG|   10|\n",
      "| MULTI_ENG| 2615|\n",
      "|ROTORCRAFT|    3|\n",
      "+----------+-----+\n",
      "\n"
     ]
    }
   ],
   "source": [
    "df = df.withColumn(\n",
    "    \"type\",\n",
    "    when(df.type == \"Fixed wing multi engine\", \"MULTI_ENG\")\n",
    "    .when(df.type == \"Fixed wing single engine\", \"SINGLE_ENG\")\n",
    "    .when(df.type == \"Rotorcraft\", \"ROTORCRAFT\")\n",
    "    .otherwise(df.type),\n",
    ")\n",
    "df.select(\"type\").groupBy(\"type\").count().show(3)\n"
   ]
  },
  {
   "cell_type": "markdown",
   "metadata": {},
   "source": [
    "Pergunta 6"
   ]
  },
  {
   "cell_type": "code",
   "execution_count": 20,
   "metadata": {},
   "outputs": [
    {
     "name": "stdout",
     "output_type": "stream",
     "text": [
      "['AIRBUS', 'AIRBUS INDUSTRIE', 'BARKER JACK L', 'BELL', 'BOEING', 'BOMBARDIER INC', 'CANADAIR', 'CESSNA', 'CIRRUS DESIGN CORP', 'EMBRAER', 'GULFSTREAM AEROSPACE', 'KILDALL GARY', 'LAMBERT RICHARD', 'MARZ BARRY', 'MCDONNELL DOUGLAS', 'MCDONNELL DOUGLAS AIRCRAFT CO', 'PIPER', 'ROBINSON HELICOPTER CO', 'SIKORSKY']\n"
     ]
    }
   ],
   "source": [
    "print(\n",
    "    [\n",
    "        data[0]\n",
    "        for data in df.select(\"manufacturer\")\n",
    "        .distinct()\n",
    "        .orderBy(\"manufacturer\", ascending=True)\n",
    "        .toLocalIterator()\n",
    "    ]\n",
    ")\n"
   ]
  },
  {
   "cell_type": "code",
   "execution_count": 21,
   "metadata": {},
   "outputs": [],
   "source": [
    "df = df.withColumn(\n",
    "    \"manufacturer\",\n",
    "    F.when(df.manufacturer.startswith(\"AIRBUS\"), \"AIRBUS\")\n",
    "    .when(df.manufacturer.startswith(\"BARKER\"), \"BARKER JACK\")\n",
    "    .when(df.manufacturer.startswith(\"BELL\"), \"BELL\")\n",
    "    .when(df.manufacturer.startswith(\"BOEING\"), \"BOEING\")\n",
    "    .when(df.manufacturer.startswith(\"BOMBARDIER\"), \"BOMBARDIER\")\n",
    "    .when(df.manufacturer.startswith(\"CANADAIR\"), \"CANADAIR\")\n",
    "    .when(df.manufacturer.startswith(\"CESSNA\"), \"CESSNA\")\n",
    "    .when(df.manufacturer.startswith(\"CIRRUS\"), \"CIRRUS\")\n",
    "    .when(df.manufacturer.startswith(\"EMBRAER\"), \"EMBRAER\")\n",
    "    .when(df.manufacturer.startswith(\"GULFSTREAM\"), \"GULFSTREAM\")\n",
    "    .when(df.manufacturer.startswith(\"KILDALL\"), \"KILDALL GARY\")\n",
    "    .when(df.manufacturer.startswith(\"LAMBERT\"), \"LAMBERT RICHARD\")\n",
    "    .when(df.manufacturer.startswith(\"MARZ\"), \"MARZ BARRY\")\n",
    "    .when(df.manufacturer.startswith(\"MCDONNELL\"), \"MCDONNELL DOUGLAS\")\n",
    "    .when(df.manufacturer.startswith(\"PIPER\"), \"PIPER\")\n",
    "    .when(df.manufacturer.startswith(\"ROBINSON\"), \"ROBINSON HELICOPTER\")\n",
    "    .when(df.manufacturer.startswith(\"SIKORSKY\"), \"SIKORSKY\"),\n",
    ")\n"
   ]
  },
  {
   "cell_type": "markdown",
   "metadata": {},
   "source": [
    "\n",
    "Pergunta 7"
   ]
  },
  {
   "cell_type": "code",
   "execution_count": 22,
   "metadata": {},
   "outputs": [
    {
     "name": "stdout",
     "output_type": "stream",
     "text": [
      "['150', '172M', '206B', '210-5(205)', '421C', '737-301', '737-3A4', '737-3G7', '737-3H4', '737-3K2', '737-3L9', '737-3Q8', '737-3T5', '737-3TO', '737-3Y0', '737-490', '737-4Q8', '737-4S3', '737-5H4', '737-705', '737-724', '737-732', '737-73V', '737-76N', '737-76Q', '737-790', '737-7AD', '737-7BD', '737-7BX', '737-7H4', '737-7K9', '737-7Q8', '737-824', '737-832', '737-890', '737-8FH', '737-8H4', '737-924', '737-924ER', '737-932ER', '737-990', '737-990ER', '747-451', '757-212', '757-222', '757-223', '757-224', '757-231', '757-232', '757-251', '757-26D', '757-28A', '757-2G7', '757-2Q8', '757-2S7', '757-324', '757-33N', '757-351', '767-322', '767-332', '767-33A', '767-3CB', '767-3P6', '767-432ER', '777-224', '777-232LR', 'A319-111', 'A319-112', 'A319-114', 'A319-115', 'A319-131', 'A319-132', 'A320-211', 'A320-212', 'A320-214', 'A320-231', 'A320-232', 'A321-211', 'A321-231', 'A330-223', 'A330-243', 'A330-323', 'CL-600-2B19', 'CL-600-2C10', 'CL-600-2D24', 'DC-9-82(MD-82)', 'DC-9-83(MD-83)', 'EMB-120', 'EMB-120ER', 'FALCON XP', 'FALCON-XP', 'GV-SP (G550)', 'KITFOX IV', 'MD-88', 'MD-90-30', 'PA-28-180', 'PA-32R-300', 'R66', 'S-76A', 'SR22', 'ZODIAC 601HDS']\n"
     ]
    }
   ],
   "source": [
    "print(\n",
    "    [\n",
    "        data[0]\n",
    "        for data in df.select(\"model\")\n",
    "        .distinct()\n",
    "        .orderBy(\"model\", ascending=True)\n",
    "        .toLocalIterator()\n",
    "    ]\n",
    ")\n"
   ]
  },
  {
   "cell_type": "code",
   "execution_count": 23,
   "metadata": {},
   "outputs": [
    {
     "name": "stdout",
     "output_type": "stream",
     "text": [
      "['150', '172M', '206B', '210-5', '421C', '737-301', '737-3A4', '737-3G7', '737-3H4', '737-3K2', '737-3L9', '737-3Q8', '737-3T5', '737-3TO', '737-3Y0', '737-490', '737-4Q8', '737-4S3', '737-5H4', '737-705', '737-724', '737-732', '737-73V', '737-76N', '737-76Q', '737-790', '737-7AD', '737-7BD', '737-7BX', '737-7H4', '737-7K9', '737-7Q8', '737-824', '737-832', '737-890', '737-8FH', '737-8H4', '737-924', '737-924ER', '737-932ER', '737-990', '737-990ER', '747-451', '757-212', '757-222', '757-223', '757-224', '757-231', '757-232', '757-251', '757-26D', '757-28A', '757-2G7', '757-2Q8', '757-2S7', '757-324', '757-33N', '757-351', '767-322', '767-332', '767-33A', '767-3CB', '767-3P6', '767-432ER', '777-224', '777-232LR', 'A319-111', 'A319-112', 'A319-114', 'A319-115', 'A319-131', 'A319-132', 'A320-211', 'A320-212', 'A320-214', 'A320-231', 'A320-232', 'A321-211', 'A321-231', 'A330-223', 'A330-243', 'A330-323', 'CL-600-2B19', 'CL-600-2C10', 'CL-600-2D24', 'DC-9-82', 'DC-9-83', 'EMB-120', 'EMB-120ER', 'FALCON XP', 'FALCON-XP', 'GV-SP', 'KITFOX IV', 'MD-88', 'MD-90-30', 'PA-28-180', 'PA-32R-300', 'R66', 'S-76A', 'SR22', 'ZODIAC 601HDS']\n"
     ]
    }
   ],
   "source": [
    "df = df.withColumn(\"model\", F.regexp_replace(df.model, r\"\\s*\\([^()]*\\)\\s*\", \"\"))\n",
    "\n",
    "print(\n",
    "    [\n",
    "        data[0]\n",
    "        for data in df.select(\"model\")\n",
    "        .distinct()\n",
    "        .orderBy(\"model\", ascending=True)\n",
    "        .toLocalIterator()\n",
    "    ]\n",
    ")\n"
   ]
  },
  {
   "cell_type": "markdown",
   "metadata": {},
   "source": [
    "\n",
    "Pergunta 8"
   ]
  },
  {
   "cell_type": "code",
   "execution_count": 24,
   "metadata": {},
   "outputs": [
    {
     "name": "stdout",
     "output_type": "stream",
     "text": [
      "+-----+-----+\n",
      "|speed|count|\n",
      "+-----+-----+\n",
      "| null| 2622|\n",
      "+-----+-----+\n",
      "\n",
      "+-----+-----+\n",
      "|speed|count|\n",
      "+-----+-----+\n",
      "+-----+-----+\n",
      "\n"
     ]
    }
   ],
   "source": [
    "df.select(\"speed\").filter(df.speed.isNull()).groupBy(\"speed\").count().show(3)\n",
    "\n",
    "df = df.withColumn(\n",
    "    \"speed\",\n",
    "    F.when(\n",
    "        (df.speed.isNull()) & (df.seats.isNotNull()),\n",
    "        F.ceil(F.expr(\"seats/0.36\")),\n",
    "    ).otherwise(df.speed),\n",
    ")\n",
    "\n",
    "df = df.withColumn(\"speed\", df.speed.cast(IntegerType()))\n",
    "\n",
    "df.select(\"speed\").filter(df.speed.isNull()).groupBy(\"speed\").count().show(3)\n"
   ]
  },
  {
   "cell_type": "markdown",
   "metadata": {},
   "source": [
    "\n",
    "Pergunta 9"
   ]
  },
  {
   "cell_type": "code",
   "execution_count": 25,
   "metadata": {},
   "outputs": [
    {
     "name": "stdout",
     "output_type": "stream",
     "text": [
      "+-----------+-----+\n",
      "|engine_type|count|\n",
      "+-----------+-----+\n",
      "|       PROP|   37|\n",
      "|       null|   10|\n",
      "|      CYCLE|    1|\n",
      "|        FAN| 2127|\n",
      "|        JET|  450|\n",
      "|      SHAFT|    3|\n",
      "+-----------+-----+\n",
      "\n"
     ]
    }
   ],
   "source": [
    "df = df.withColumn(\n",
    "    \"engine_type\",\n",
    "    F.when(df.engine == \"Turbo-fan\", \"FAN\")\n",
    "    .when(df.engine == \"Turbo-jet\", \"JET\")\n",
    "    .when(df.engine == \"Turbo-prop\", \"PROP\")\n",
    "    .when(df.engine == \"Turbo-shaft\", \"SHAFT\")\n",
    "    .when(df.engine == \"4 Cycle\", \"CYCLE\")\n",
    "    .otherwise((None)),\n",
    ")\n",
    "\n",
    "df.select(\"engine_type\").groupBy(\"engine_type\").count().show(6)\n"
   ]
  },
  {
   "cell_type": "markdown",
   "metadata": {},
   "source": [
    "Salvando"
   ]
  },
  {
   "cell_type": "code",
   "execution_count": 26,
   "metadata": {},
   "outputs": [],
   "source": [
    "\"\"\"\n",
    "df.repartition(1).write.format(\"parquet\").mode(\"overwrite\").option(\n",
    "    \"header\", \"true\"\n",
    ").save(\"../Data/planes_proc.parquet\")\n",
    "\"\"\"\n",
    "df = df.toPandas()\n",
    "df.to_parquet(\"../Data/lanes_proc.parquet\")"
   ]
  },
  {
   "cell_type": "markdown",
   "metadata": {},
   "source": [
    "# Flights Dataset"
   ]
  },
  {
   "cell_type": "code",
   "execution_count": 27,
   "metadata": {},
   "outputs": [],
   "source": [
    "schema = (\n",
    "    StructType()\n",
    "    .add(\"year\", IntegerType(), True)\n",
    "    .add(\"month\", IntegerType(), True)\n",
    "    .add(\"day\", IntegerType(), True)\n",
    "    .add(\"dep_time\", StringType(), True)\n",
    "    .add(\"dep_delay\", IntegerType(), True)\n",
    "    .add(\"arr_time\", StringType(), True)\n",
    "    .add(\"arr_delay\", IntegerType(), True)\n",
    "    .add(\"carrier\", StringType(), True)\n",
    "    .add(\"tailnum\", StringType(), True)\n",
    "    .add(\"flight\", StringType(), True)\n",
    "    .add(\"origin\", StringType(), True)\n",
    "    .add(\"dest\", StringType(), True)\n",
    "    .add(\"air_time\", IntegerType(), True)\n",
    "    .add(\"distance\", IntegerType(), True)\n",
    "    .add(\"hour\", IntegerType(), True)\n",
    "    .add(\"minute\", IntegerType(), True)\n",
    ")\n"
   ]
  },
  {
   "cell_type": "code",
   "execution_count": 28,
   "metadata": {},
   "outputs": [
    {
     "name": "stdout",
     "output_type": "stream",
     "text": [
      "+----+-----+---+--------+---------+--------+---------+-------+-------+------+------+----+--------+--------+----+------+\n",
      "|year|month|day|dep_time|dep_delay|arr_time|arr_delay|carrier|tailnum|flight|origin|dest|air_time|distance|hour|minute|\n",
      "+----+-----+---+--------+---------+--------+---------+-------+-------+------+------+----+--------+--------+----+------+\n",
      "|2014|12   |8  |658     |-7       |935     |-5       |VX     |N846VA |1780  |SEA   |LAX |132     |954     |6   |58    |\n",
      "|2014|1    |22 |1040    |5        |1505    |5        |AS     |N559AS |851   |SEA   |HNL |360     |2677    |10  |40    |\n",
      "|2014|3    |9  |1443    |-2       |1652    |2        |VX     |N847VA |755   |SEA   |SFO |111     |679     |14  |43    |\n",
      "|2014|4    |9  |1705    |45       |1839    |34       |WN     |N360SW |344   |PDX   |SJC |83      |569     |17  |5     |\n",
      "|2014|3    |9  |754     |-1       |1015    |1        |AS     |N612AS |522   |SEA   |BUR |127     |937     |7   |54    |\n",
      "+----+-----+---+--------+---------+--------+---------+-------+-------+------+------+----+--------+--------+----+------+\n",
      "only showing top 5 rows\n",
      "\n"
     ]
    }
   ],
   "source": [
    "df = spark.read.csv(\"../Datasets/flights.csv\", header=True, schema=schema)\n",
    "# ,inferSchema=True\n",
    "df.show(5, False)\n"
   ]
  },
  {
   "cell_type": "markdown",
   "metadata": {},
   "source": [
    "Pergunta 1"
   ]
  },
  {
   "cell_type": "code",
   "execution_count": 29,
   "metadata": {},
   "outputs": [
    {
     "name": "stdout",
     "output_type": "stream",
     "text": [
      "+----+------+-----+\n",
      "|hour|minute|count|\n",
      "+----+------+-----+\n",
      "|  15|    26|    8|\n",
      "|  22|    53|    5|\n",
      "|   7|    55|   12|\n",
      "|   8|    52|    6|\n",
      "|  15|    14|    5|\n",
      "|  17|    33|    7|\n",
      "+----+------+-----+\n",
      "only showing top 6 rows\n",
      "\n"
     ]
    }
   ],
   "source": [
    "df = df.withColumn(\n",
    "    \"hour\", F.when(df.hour.isNull(), 0).otherwise(df.hour)\n",
    ")\n",
    "\n",
    "\n",
    "df = df.withColumn(\n",
    "    \"minute\", F.when(df.minute.isNull(), 0).otherwise(df.minute)\n",
    ")\n",
    "df.select(\"hour\",\"minute\").groupBy(\"hour\",\"minute\").count().show(6)"
   ]
  },
  {
   "cell_type": "markdown",
   "metadata": {},
   "source": [
    "Pergunta 2"
   ]
  },
  {
   "cell_type": "code",
   "execution_count": 30,
   "metadata": {},
   "outputs": [],
   "source": [
    "df = df.withColumn(\n",
    "    \"hour\", F.when(df.hour == 24, 0).otherwise(df.hour)\n",
    ")\n"
   ]
  },
  {
   "cell_type": "markdown",
   "metadata": {},
   "source": [
    "Pergunta 3"
   ]
  },
  {
   "cell_type": "code",
   "execution_count": 31,
   "metadata": {},
   "outputs": [],
   "source": [
    "df = df.withColumn(\n",
    "    \"dep_datetime\", F.expr(\"make_timestamp(year, month, day, hour, minute, 00)\")\n",
    ")\n"
   ]
  },
  {
   "cell_type": "markdown",
   "metadata": {},
   "source": [
    "Pergunta 4"
   ]
  },
  {
   "cell_type": "code",
   "execution_count": 32,
   "metadata": {},
   "outputs": [
    {
     "name": "stdout",
     "output_type": "stream",
     "text": [
      "['19', '8', '30', '13', '42', '7', '29', '12', '48', '6', '41', '3', '14', '45', '27']\n",
      "+--------+----+------+\n",
      "|dep_time|hour|minute|\n",
      "+--------+----+------+\n",
      "|     658|   6|    58|\n",
      "|    1040|  10|    40|\n",
      "|    1443|  14|    43|\n",
      "|    1705|  17|     5|\n",
      "|     754|   7|    54|\n",
      "|    1037|  10|    37|\n",
      "|     847|   8|    47|\n",
      "|    1655|  16|    55|\n",
      "|    1236|  12|    36|\n",
      "|    1812|  18|    12|\n",
      "+--------+----+------+\n",
      "only showing top 10 rows\n",
      "\n"
     ]
    }
   ],
   "source": [
    "print(\n",
    "    [\n",
    "        data[0]\n",
    "        for data in df.select(\"dep_time\",\"hour\")\n",
    "        .distinct()\n",
    "        .orderBy(\"hour\", ascending=True)\n",
    "        .toLocalIterator()\n",
    "    ][:15]\n",
    ")\n",
    "\n",
    "df.select(\"dep_time\",\"hour\",\"minute\").show(10)"
   ]
  },
  {
   "cell_type": "code",
   "execution_count": 33,
   "metadata": {},
   "outputs": [
    {
     "name": "stdout",
     "output_type": "stream",
     "text": [
      "+--------+----+------+\n",
      "|dep_time|hour|minute|\n",
      "+--------+----+------+\n",
      "|     658|   6|    58|\n",
      "|    1040|  10|    40|\n",
      "|    1443|  14|    43|\n",
      "|    1705|  17|     5|\n",
      "|     754|   7|    54|\n",
      "|    1037|  10|    37|\n",
      "|     847|   8|    47|\n",
      "|    1655|  16|    55|\n",
      "|    1236|  12|    36|\n",
      "|    1812|  18|    12|\n",
      "+--------+----+------+\n",
      "only showing top 10 rows\n",
      "\n"
     ]
    }
   ],
   "source": [
    "\n",
    "df = df.withColumn(\n",
    "    \"dep_time\",\n",
    "    F.when(\n",
    "        df.dep_time == \"NA\",\n",
    "        F.concat(df.hour, F.lpad(df.minute, 2, \"0\")),\n",
    "    ).otherwise(df.dep_time),\n",
    ")\n",
    "df.select(\"dep_time\",\"hour\",\"minute\").show(10)"
   ]
  },
  {
   "cell_type": "markdown",
   "metadata": {},
   "source": [
    "Pergunta 5"
   ]
  },
  {
   "cell_type": "code",
   "execution_count": 34,
   "metadata": {},
   "outputs": [],
   "source": [
    "df = df.withColumn(\n",
    "    \"dep_delay\",\n",
    "    F.when(df.dep_delay.isNull(), 0).otherwise(df.dep_delay),\n",
    ")\n"
   ]
  },
  {
   "cell_type": "markdown",
   "metadata": {},
   "source": [
    "Pergunta 6"
   ]
  },
  {
   "cell_type": "code",
   "execution_count": 35,
   "metadata": {},
   "outputs": [],
   "source": [
    "df = df.withColumn(\n",
    "    \"arr_delay\",\n",
    "    F.when(df.arr_delay.isNull(), 0).otherwise(df.arr_delay),\n",
    ")\n"
   ]
  },
  {
   "cell_type": "markdown",
   "metadata": {},
   "source": [
    "Pergunta 7"
   ]
  },
  {
   "cell_type": "code",
   "execution_count": 36,
   "metadata": {},
   "outputs": [],
   "source": [
    "df = df.drop(\"year\", \"month\", \"day\", \"hour\", \"minute\")\n"
   ]
  },
  {
   "cell_type": "markdown",
   "metadata": {},
   "source": [
    "Pergunta 8"
   ]
  },
  {
   "cell_type": "code",
   "execution_count": 37,
   "metadata": {},
   "outputs": [
    {
     "name": "stdout",
     "output_type": "stream",
     "text": [
      "+------------------+-----+\n",
      "|air_time_projected|count|\n",
      "+------------------+-----+\n",
      "|                31|   54|\n",
      "|               255|   27|\n",
      "|               193|  215|\n",
      "|               115|  521|\n",
      "|               101|   71|\n",
      "|               126|   26|\n",
      "|                76|  164|\n",
      "|               192|  282|\n",
      "|                44|   10|\n",
      "|               159|  166|\n",
      "+------------------+-----+\n",
      "only showing top 10 rows\n",
      "\n"
     ]
    }
   ],
   "source": [
    "df = df.withColumn(\n",
    "    \"air_time_projected\", ((F.col(\"distance\") * 0.1) + 20).cast(IntegerType())\n",
    ")\n",
    "\n",
    "\n",
    "\n",
    "df.groupBy(\"air_time_projected\").count().distinct().show(10)"
   ]
  },
  {
   "cell_type": "markdown",
   "metadata": {},
   "source": [
    "Pergunta 9"
   ]
  },
  {
   "cell_type": "code",
   "execution_count": 38,
   "metadata": {},
   "outputs": [
    {
     "name": "stdout",
     "output_type": "stream",
     "text": [
      "+------+----+-----------------+\n",
      "|origin|dest|air_time_expected|\n",
      "+------+----+-----------------+\n",
      "|   PDX| IAH|              213|\n",
      "|   PDX| ONT|              111|\n",
      "|   PDX| PHX|              130|\n",
      "|   PDX| SFO|               85|\n",
      "|   PDX| MCI|              174|\n",
      "+------+----+-----------------+\n",
      "only showing top 5 rows\n",
      "\n"
     ]
    }
   ],
   "source": [
    "df_1 = (\n",
    "    df.groupBy(\"origin\", \"dest\")\n",
    "    .agg(F.avg(\"air_time\").cast(IntegerType()).alias(\"air_time_expected\"))\n",
    "    .orderBy(\"origin\")\n",
    ")\n",
    "df_1.show(5)"
   ]
  },
  {
   "cell_type": "code",
   "execution_count": 39,
   "metadata": {},
   "outputs": [
    {
     "name": "stdout",
     "output_type": "stream",
     "text": [
      "Actual columns: ['origin', 'dest', 'air_time_expected']\n",
      "modified columns: ['O1', 'D1', 'air_time_expected']\n",
      "+---+---+-----------------+\n",
      "| O1| D1|air_time_expected|\n",
      "+---+---+-----------------+\n",
      "|PDX|IAH|              213|\n",
      "|PDX|ONT|              111|\n",
      "|PDX|PHX|              130|\n",
      "|PDX|SFO|               85|\n",
      "|PDX|MCI|              174|\n",
      "+---+---+-----------------+\n",
      "only showing top 5 rows\n",
      "\n"
     ]
    }
   ],
   "source": [
    "print(\"Actual columns:\", df_1.columns)\n",
    "\n",
    "\n",
    "df_1 = (\n",
    "    df_1.withColumnRenamed(\"origin\", \"O1\")\n",
    "    .withColumnRenamed(\"dest\", \"D1\")\n",
    ")\n",
    "print(\"modified columns:\", df_1.columns)\n",
    "\n",
    "df_1.show(5)\n"
   ]
  },
  {
   "cell_type": "code",
   "execution_count": 40,
   "metadata": {},
   "outputs": [],
   "source": [
    "df = df.join(df_1, (df.origin == df_1.O1) & (df.dest == df_1.D1), \"left\")\n"
   ]
  },
  {
   "cell_type": "code",
   "execution_count": 41,
   "metadata": {},
   "outputs": [
    {
     "name": "stdout",
     "output_type": "stream",
     "text": [
      "+--------+---------+--------+---------+-------+-------+------+------+----+--------+--------+-------------------+------------------+---+---+-----------------+\n",
      "|dep_time|dep_delay|arr_time|arr_delay|carrier|tailnum|flight|origin|dest|air_time|distance|       dep_datetime|air_time_projected| O1| D1|air_time_expected|\n",
      "+--------+---------+--------+---------+-------+-------+------+------+----+--------+--------+-------------------+------------------+---+---+-----------------+\n",
      "|     658|       -7|     935|       -5|     VX| N846VA|  1780|   SEA| LAX|     132|     954|2014-12-08 06:58:00|               115|SEA|LAX|              126|\n",
      "|    1040|        5|    1505|        5|     AS| N559AS|   851|   SEA| HNL|     360|    2677|2014-01-22 10:40:00|               287|SEA|HNL|              343|\n",
      "|    1443|       -2|    1652|        2|     VX| N847VA|   755|   SEA| SFO|     111|     679|2014-03-09 14:43:00|                87|SEA|SFO|              101|\n",
      "|    1705|       45|    1839|       34|     WN| N360SW|   344|   PDX| SJC|      83|     569|2014-04-09 17:05:00|                76|PDX|SJC|               85|\n",
      "|     754|       -1|    1015|        1|     AS| N612AS|   522|   SEA| BUR|     127|     937|2014-03-09 07:54:00|               113|SEA|BUR|              122|\n",
      "|    1037|        7|    1352|        2|     WN| N646SW|    48|   PDX| DEN|     121|     991|2014-01-15 10:37:00|               119|PDX|DEN|              123|\n",
      "|     847|       42|    1041|       51|     WN| N422WN|  1520|   PDX| OAK|      90|     543|2014-07-02 08:47:00|                74|PDX|OAK|               81|\n",
      "|    1655|       -5|    1842|      -18|     VX| N361VA|   755|   SEA| SFO|      98|     679|2014-05-12 16:55:00|                87|SEA|SFO|              101|\n",
      "|    1236|       -4|    1508|       -7|     AS| N309AS|   490|   SEA| SAN|     135|    1050|2014-04-19 12:36:00|               125|SEA|SAN|              137|\n",
      "|    1812|       -3|    2352|       -4|     AS| N564AS|    26|   SEA| ORD|     198|    1721|2014-11-19 18:12:00|               192|SEA|ORD|              202|\n",
      "+--------+---------+--------+---------+-------+-------+------+------+----+--------+--------+-------------------+------------------+---+---+-----------------+\n",
      "only showing top 10 rows\n",
      "\n"
     ]
    }
   ],
   "source": [
    "df.show(10)"
   ]
  },
  {
   "cell_type": "markdown",
   "metadata": {},
   "source": [
    "Pergunta 10"
   ]
  },
  {
   "cell_type": "code",
   "execution_count": 42,
   "metadata": {},
   "outputs": [
    {
     "name": "stdout",
     "output_type": "stream",
     "text": [
      "+--------+---------+--------+---------+-------+-------+------+------+----+--------+--------+-------------------+------------------+---+---+-----------------+\n",
      "|dep_time|dep_delay|arr_time|arr_delay|carrier|tailnum|flight|origin|dest|air_time|distance|       dep_datetime|air_time_projected| O1| D1|air_time_expected|\n",
      "+--------+---------+--------+---------+-------+-------+------+------+----+--------+--------+-------------------+------------------+---+---+-----------------+\n",
      "|     658|       -7|     935|       -5|     VX| N846VA|  1780|   SEA| LAX|     132|     954|2014-12-08 06:58:00|               115|SEA|LAX|              126|\n",
      "|    1040|        5|    1505|        5|     AS| N559AS|   851|   SEA| HNL|     360|    2677|2014-01-22 10:40:00|               287|SEA|HNL|              343|\n",
      "|    1443|       -2|    1652|        2|     VX| N847VA|   755|   SEA| SFO|     111|     679|2014-03-09 14:43:00|                87|SEA|SFO|              101|\n",
      "|    1705|       45|    1839|       34|     WN| N360SW|   344|   PDX| SJC|      83|     569|2014-04-09 17:05:00|                76|PDX|SJC|               85|\n",
      "|     754|       -1|    1015|        1|     AS| N612AS|   522|   SEA| BUR|     127|     937|2014-03-09 07:54:00|               113|SEA|BUR|              122|\n",
      "|    1037|        7|    1352|        2|     WN| N646SW|    48|   PDX| DEN|     121|     991|2014-01-15 10:37:00|               119|PDX|DEN|              123|\n",
      "|     847|       42|    1041|       51|     WN| N422WN|  1520|   PDX| OAK|      90|     543|2014-07-02 08:47:00|                74|PDX|OAK|               81|\n",
      "|    1655|       -5|    1842|      -18|     VX| N361VA|   755|   SEA| SFO|      98|     679|2014-05-12 16:55:00|                87|SEA|SFO|              101|\n",
      "|    1236|       -4|    1508|       -7|     AS| N309AS|   490|   SEA| SAN|     135|    1050|2014-04-19 12:36:00|               125|SEA|SAN|              137|\n",
      "|    1812|       -3|    2352|       -4|     AS| N564AS|    26|   SEA| ORD|     198|    1721|2014-11-19 18:12:00|               192|SEA|ORD|              202|\n",
      "+--------+---------+--------+---------+-------+-------+------+------+----+--------+--------+-------------------+------------------+---+---+-----------------+\n",
      "only showing top 10 rows\n",
      "\n"
     ]
    }
   ],
   "source": [
    "df = df.withColumn(\n",
    "    \"air_time\",\n",
    "    F.when(\n",
    "        df.air_time.isNull(),\n",
    "        F.greatest(df.air_time_projected, df.air_time_expected),\n",
    "    ).otherwise(df.air_time),\n",
    ")\n",
    "df.show(10)"
   ]
  },
  {
   "cell_type": "markdown",
   "metadata": {},
   "source": [
    "Pergunta 11"
   ]
  },
  {
   "cell_type": "code",
   "execution_count": 43,
   "metadata": {},
   "outputs": [
    {
     "name": "stdout",
     "output_type": "stream",
     "text": [
      "+--------+---------+--------+---------+-------+-------+------+------+----+--------+--------+-------------------+------------------+---+---+-----------------+-------------------+\n",
      "|dep_time|dep_delay|arr_time|arr_delay|carrier|tailnum|flight|origin|dest|air_time|distance|       dep_datetime|air_time_projected| O1| D1|air_time_expected|                sum|\n",
      "+--------+---------+--------+---------+-------+-------+------+------+----+--------+--------+-------------------+------------------+---+---+-----------------+-------------------+\n",
      "|     658|       -7|     935|       -5|     VX| N846VA|  1780|   SEA| LAX|     132|     954|2014-12-08 06:58:00|               115|SEA|LAX|              126|2014-12-08 09:10:00|\n",
      "|    1040|        5|    1505|        5|     AS| N559AS|   851|   SEA| HNL|     360|    2677|2014-01-22 10:40:00|               287|SEA|HNL|              343|2014-01-22 16:40:00|\n",
      "+--------+---------+--------+---------+-------+-------+------+------+----+--------+--------+-------------------+------------------+---+---+-----------------+-------------------+\n",
      "only showing top 2 rows\n",
      "\n"
     ]
    }
   ],
   "source": [
    "\n",
    "df = df.withColumn(\n",
    "    \"sum\",\n",
    "    (\n",
    "        F.unix_timestamp(\"dep_datetime\") + (df.air_time * 60).cast(\"int\")\n",
    "    ).cast(\"timestamp\"),\n",
    ")\n",
    "\n",
    "\n",
    "df = df.withColumn(\n",
    "    \"arr_time\",\n",
    "    F.when(\n",
    "        df.arr_time == \"NA\",\n",
    "        F.format_string(\"%d%d\", F.hour(df.sum), F.minute(df.sum)),\n",
    "    ).otherwise(df.arr_time)\n",
    ")\n",
    "\n",
    "\n",
    "\n",
    "\n",
    "df.show(2)\n"
   ]
  },
  {
   "cell_type": "markdown",
   "metadata": {},
   "source": [
    "Pergunta 12"
   ]
  },
  {
   "cell_type": "code",
   "execution_count": 44,
   "metadata": {},
   "outputs": [],
   "source": [
    "df = df.withColumn(\n",
    "    \"haul_duration\",\n",
    "    (\n",
    "        F.when((df.air_time.between(20, 180)), \"SHORT-HAUL\")\n",
    "        .when((df.air_time.between(181, 360)), \"MEDIUM-HAUL\")\n",
    "        .otherwise(\"LONG-HAUL\")\n",
    "    ),\n",
    ")\n"
   ]
  },
  {
   "cell_type": "markdown",
   "metadata": {},
   "source": [
    "Pergunta 13"
   ]
  },
  {
   "cell_type": "code",
   "execution_count": 45,
   "metadata": {},
   "outputs": [
    {
     "name": "stdout",
     "output_type": "stream",
     "text": [
      "+----------+-------------------+-------------------+\n",
      "|dep_season|          StartDate|            EndDate|\n",
      "+----------+-------------------+-------------------+\n",
      "|    WINTER|2014-01-01 00:00:00|2014-12-31 22:57:00|\n",
      "|    SPRING|2014-03-20 15:38:00|2014-06-21 10:05:00|\n",
      "|      FALL|2014-09-23 05:13:00|2014-12-21 18:34:00|\n",
      "|    SUMMER|2014-06-21 11:02:00|2014-09-22 23:26:00|\n",
      "+----------+-------------------+-------------------+\n",
      "\n"
     ]
    }
   ],
   "source": [
    "#errado\n",
    "df = df.withColumn(\n",
    "    \"dep_season\",\n",
    "    (\n",
    "        F.when(\n",
    "            (\n",
    "                df.dep_datetime.between(\n",
    "                    \"2013-12-21 21:48:00\", \"2014-03-20 15:32:59\"\n",
    "                )\n",
    "            ),\n",
    "            \"WINTER\",\n",
    "        )\n",
    "        .when(\n",
    "            (\n",
    "                df.dep_datetime.between(\n",
    "                    \"2014-03-20 15:33:00\", \"2014-06-21 10:13:59\"\n",
    "                )\n",
    "            ),\n",
    "            \"SPRING\",\n",
    "        )\n",
    "        .when(\n",
    "            (\n",
    "                df.dep_datetime.between(\n",
    "                    \"2014-06-21 10:14:00\", \"2014-09-23 02:03:59\"\n",
    "                )\n",
    "            ),\n",
    "            \"SUMMER\",\n",
    "        )\n",
    "        .when(\n",
    "            (\n",
    "                df.dep_datetime.between(\n",
    "                    \"2014-09-23 02:04:00\", \"2014-12-21 21:47:59\"\n",
    "                )\n",
    "            ),\n",
    "            \"FALL\",\n",
    "        )\n",
    "        .when(\n",
    "            (\n",
    "                df.dep_datetime.between(\n",
    "                    \"2014-12-21 21:48:00\", \"2015-03-20 15:32:59\"\n",
    "                )\n",
    "            ),\n",
    "            \"WINTER\",\n",
    "        )\n",
    "    ),\n",
    ")\n",
    "df.select(\"dep_season\",\"dep_datetime\").groupBy(\"dep_season\").agg(F.min('dep_datetime').alias('StartDate'),\n",
    "    F.max('dep_datetime').alias('EndDate')).show()\n"
   ]
  },
  {
   "cell_type": "markdown",
   "metadata": {},
   "source": [
    "Pergunta 14"
   ]
  },
  {
   "cell_type": "code",
   "execution_count": 46,
   "metadata": {},
   "outputs": [
    {
     "name": "stdout",
     "output_type": "stream",
     "text": [
      "+------------------+-----+\n",
      "|dep_delay_category|count|\n",
      "+------------------+-----+\n",
      "|       ANTECIPATED| 5894|\n",
      "|             MAJOR|  395|\n",
      "|             MINOR| 3065|\n",
      "|            INTIME|  646|\n",
      "+------------------+-----+\n",
      "\n"
     ]
    }
   ],
   "source": [
    "df = df.withColumn(\n",
    "    \"dep_delay_category\",\n",
    "    (\n",
    "        F.when((df.dep_delay < 0), \"ANTECIPATED\")\n",
    "        .when((df.dep_delay == 0), \"INTIME\")\n",
    "        .when((df.dep_delay >= 60), \"MAJOR\")\n",
    "        .otherwise(\"MINOR\")\n",
    "    ),\n",
    ")\n",
    "df.groupBy(\"dep_delay_category\").count().distinct().show()"
   ]
  },
  {
   "cell_type": "markdown",
   "metadata": {},
   "source": [
    "Salvando"
   ]
  },
  {
   "cell_type": "code",
   "execution_count": 47,
   "metadata": {},
   "outputs": [
    {
     "name": "stderr",
     "output_type": "stream",
     "text": [
      "C:\\Users\\mpoll\\AppData\\Roaming\\Python\\Python310\\site-packages\\pyspark\\sql\\pandas\\conversion.py:248: FutureWarning: Passing unit-less datetime64 dtype to .astype is deprecated and will raise in a future version. Pass 'datetime64[ns]' instead\n",
      "  series = series.astype(t, copy=False)\n",
      "C:\\Users\\mpoll\\AppData\\Roaming\\Python\\Python310\\site-packages\\pyspark\\sql\\pandas\\conversion.py:248: FutureWarning: Passing unit-less datetime64 dtype to .astype is deprecated and will raise in a future version. Pass 'datetime64[ns]' instead\n",
      "  series = series.astype(t, copy=False)\n"
     ]
    }
   ],
   "source": [
    "\"\"\"\n",
    "df.repartition(1).write.format(\"parquet\").mode(\"overwrite\").option(\n",
    "    \"header\", \"true\"\n",
    ").save(\"../Data/flights_proc.parquet\")\n",
    "\"\"\"\n",
    "df = df.toPandas()\n",
    "df.to_parquet(\"../Data/flights_proc.parquet\")\n"
   ]
  }
 ],
 "metadata": {
  "kernelspec": {
   "display_name": "Python 3.10.7 64-bit",
   "language": "python",
   "name": "python3"
  },
  "language_info": {
   "codemirror_mode": {
    "name": "ipython",
    "version": 3
   },
   "file_extension": ".py",
   "mimetype": "text/x-python",
   "name": "python",
   "nbconvert_exporter": "python",
   "pygments_lexer": "ipython3",
   "version": "3.10.7"
  },
  "orig_nbformat": 4,
  "vscode": {
   "interpreter": {
    "hash": "26de051ba29f2982a8de78e945f0abaf191376122a1563185a90213a26c5da77"
   }
  }
 },
 "nbformat": 4,
 "nbformat_minor": 2
}
